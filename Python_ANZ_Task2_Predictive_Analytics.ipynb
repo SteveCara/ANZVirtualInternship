{
 "cells": [
  {
   "cell_type": "code",
   "execution_count": 186,
   "metadata": {},
   "outputs": [],
   "source": [
    "import pandas as pd\n",
    "import numpy as np\n",
    "import matplotlib.pyplot as plt\n",
    "import seaborn as sns\n",
    "from scipy import stats\n",
    "from sklearn.model_selection import train_test_split\n",
    "from sklearn.linear_model import LinearRegression\n",
    "from sklearn.model_selection import cross_val_score, GridSearchCV\n",
    "from sklearn.ensemble import RandomForestRegressor\n",
    "from sklearn.metrics import mean_absolute_error"
   ]
  },
  {
   "cell_type": "code",
   "execution_count": 187,
   "metadata": {},
   "outputs": [],
   "source": [
    "# load the data\n",
    "data = pd.read_csv('ANZTask2.csv')"
   ]
  },
  {
   "cell_type": "code",
   "execution_count": 188,
   "metadata": {},
   "outputs": [],
   "source": [
    "# create dataframe\n",
    "df = data"
   ]
  },
  {
   "cell_type": "code",
   "execution_count": 189,
   "metadata": {},
   "outputs": [],
   "source": [
    "# clean the data using the technqiues used in task 1 to replace missing values and outliers\n",
    "# drop columns with > 40% missing values as these won't be much use to the model\n",
    "df = df.drop(['merchant_code', 'bpay_biller_code'], axis=1)"
   ]
  },
  {
   "cell_type": "code",
   "execution_count": 190,
   "metadata": {},
   "outputs": [],
   "source": [
    "# fill missing values (except for those dropped)\n",
    "# numerical data to be filled with mean, categorical data to be filled with mode\n",
    "num_cols = ['age','amount', 'balance']\n",
    "cat_cols = ['status', 'card_present_flag', 'account', 'currency', 'long_lat',\n",
    "       'txn_description', 'merchant_id', 'first_name', 'date',\n",
    "       'gender', 'merchant_suburb', 'merchant_state', 'extraction', 'transaction_id', 'country', 'customer_id',\n",
    "       'merchant_long_lat', 'movement']"
   ]
  },
  {
   "cell_type": "code",
   "execution_count": 191,
   "metadata": {},
   "outputs": [],
   "source": [
    "#  fill missing numerical values with mean\n",
    "df[num_cols] = df[num_cols].fillna(df[num_cols].mean())"
   ]
  },
  {
   "cell_type": "code",
   "execution_count": 192,
   "metadata": {},
   "outputs": [],
   "source": [
    "# fill missing categorical values with mode\n",
    "df[cat_cols] = df[cat_cols].transform(lambda x: x.fillna(x.mode()[0]))"
   ]
  },
  {
   "cell_type": "code",
   "execution_count": 193,
   "metadata": {},
   "outputs": [],
   "source": [
    "# find outliers using z score\n",
    "z = np.abs(stats.zscore(df[num_cols]))"
   ]
  },
  {
   "cell_type": "code",
   "execution_count": 194,
   "metadata": {},
   "outputs": [],
   "source": [
    "# set threshold at which outliers should be excluded\n",
    "threshold = 3"
   ]
  },
  {
   "cell_type": "code",
   "execution_count": 195,
   "metadata": {},
   "outputs": [
    {
     "data": {
      "text/html": [
       "<div>\n",
       "<style scoped>\n",
       "    .dataframe tbody tr th:only-of-type {\n",
       "        vertical-align: middle;\n",
       "    }\n",
       "\n",
       "    .dataframe tbody tr th {\n",
       "        vertical-align: top;\n",
       "    }\n",
       "\n",
       "    .dataframe thead th {\n",
       "        text-align: right;\n",
       "    }\n",
       "</style>\n",
       "<table border=\"1\" class=\"dataframe\">\n",
       "  <thead>\n",
       "    <tr style=\"text-align: right;\">\n",
       "      <th></th>\n",
       "      <th>age</th>\n",
       "      <th>amount</th>\n",
       "      <th>balance</th>\n",
       "    </tr>\n",
       "  </thead>\n",
       "  <tbody>\n",
       "    <tr>\n",
       "      <th>count</th>\n",
       "      <td>12043.000000</td>\n",
       "      <td>12043.000000</td>\n",
       "      <td>12043.000000</td>\n",
       "    </tr>\n",
       "    <tr>\n",
       "      <th>mean</th>\n",
       "      <td>29.830856</td>\n",
       "      <td>103.662676</td>\n",
       "      <td>10539.170394</td>\n",
       "    </tr>\n",
       "    <tr>\n",
       "      <th>std</th>\n",
       "      <td>8.571904</td>\n",
       "      <td>281.779685</td>\n",
       "      <td>13306.808840</td>\n",
       "    </tr>\n",
       "    <tr>\n",
       "      <th>min</th>\n",
       "      <td>18.000000</td>\n",
       "      <td>0.100000</td>\n",
       "      <td>0.240000</td>\n",
       "    </tr>\n",
       "    <tr>\n",
       "      <th>25%</th>\n",
       "      <td>22.000000</td>\n",
       "      <td>16.000000</td>\n",
       "      <td>3158.585000</td>\n",
       "    </tr>\n",
       "    <tr>\n",
       "      <th>50%</th>\n",
       "      <td>28.000000</td>\n",
       "      <td>29.000000</td>\n",
       "      <td>6432.010000</td>\n",
       "    </tr>\n",
       "    <tr>\n",
       "      <th>75%</th>\n",
       "      <td>38.000000</td>\n",
       "      <td>48.880000</td>\n",
       "      <td>11525.535000</td>\n",
       "    </tr>\n",
       "    <tr>\n",
       "      <th>max</th>\n",
       "      <td>53.000000</td>\n",
       "      <td>1965.000000</td>\n",
       "      <td>108791.320000</td>\n",
       "    </tr>\n",
       "  </tbody>\n",
       "</table>\n",
       "</div>"
      ],
      "text/plain": [
       "                age        amount        balance\n",
       "count  12043.000000  12043.000000   12043.000000\n",
       "mean      29.830856    103.662676   10539.170394\n",
       "std        8.571904    281.779685   13306.808840\n",
       "min       18.000000      0.100000       0.240000\n",
       "25%       22.000000     16.000000    3158.585000\n",
       "50%       28.000000     29.000000    6432.010000\n",
       "75%       38.000000     48.880000   11525.535000\n",
       "max       53.000000   1965.000000  108791.320000"
      ]
     },
     "execution_count": 195,
     "metadata": {},
     "output_type": "execute_result"
    }
   ],
   "source": [
    "# replace outliers with median value\n",
    "median = df[num_cols].median()\n",
    "df[num_cols] = np.where(z>threshold, median, df[num_cols])\n",
    "\n",
    "# describe data after correcting outliers\n",
    "df[num_cols].describe()"
   ]
  },
  {
   "cell_type": "code",
   "execution_count": 196,
   "metadata": {},
   "outputs": [
    {
     "data": {
      "text/plain": [
       "SALES-POS     3934\n",
       "POS           3783\n",
       "PAYMENT       2600\n",
       "PAY/SALARY     883\n",
       "INTER BANK     742\n",
       "PHONE BANK     101\n",
       "Name: txn_description, dtype: int64"
      ]
     },
     "execution_count": 196,
     "metadata": {},
     "output_type": "execute_result"
    }
   ],
   "source": [
    "# find salary for each customer ID\n",
    "# select rows with salary data only using transaction description\n",
    "df['txn_description'].value_counts()"
   ]
  },
  {
   "cell_type": "code",
   "execution_count": 197,
   "metadata": {},
   "outputs": [
    {
     "data": {
      "image/png": "[encoded data removed]",
      "text/plain": [
       "<Figure size 432x288 with 1 Axes>"
      ]
     },
     "metadata": {
      "needs_background": "light"
     },
     "output_type": "display_data"
    }
   ],
   "source": [
    "# investigate purchasing behaviour \n",
    "\n",
    "# sal_pos = df[df['txn_description']=='SALES-POS']\n",
    "# pos = df[df['txn_description']=='POS']\n",
    "# pay = df[df['txn_description']=='PAYMENT'] \n",
    "# int_ban = df[df['txn_description']=='INTER BANK']\n",
    "# pay_sal = df[df['txn_description']=='PAY/SALARY']\n",
    "\n",
    "df_sal_pos = sal_pos.groupby(['customer_id'])['amount'].sum().reset_index()\n",
    "df_pos = pos.groupby(['customer_id'])['amount'].sum().reset_index()\n",
    "df_pay = pay.groupby(['customer_id'])['amount'].sum().reset_index()\n",
    "df_int_ban = int_ban.groupby(['customer_id'])['amount'].sum().reset_index()\n",
    "df_pay_sal = pay_sal.groupby(['customer_id'])['amount'].sum().reset_index()\n",
    "\n",
    "df_pay_sal_2 = df_pay_sal[(df_pay_sal['amount']>=4900)]\n",
    "df_pay_sal_2.head()\n",
    "\n",
    "# plot the variables and inspect charts for correlation\n",
    "# ax_1 = sns.lineplot(x = df_pay_sal_2.amount, y = df_sal_pos.amount, data=df)\n",
    "# ax_2 = sns.lineplot(x = df_pay_sal_2.amount, y = df_pos.amount, data=df)\n",
    "ax_3 = sns.lineplot(x = df_pay_sal_2.amount, y = df_pay.amount, data=df)\n",
    "# ax_4 = sns.lineplot(x = df_pay_sal_2.amount, y = df_int_ban.amount, data=df)"
   ]
  },
  {
   "cell_type": "code",
   "execution_count": 198,
   "metadata": {},
   "outputs": [
    {
     "data": {
      "text/html": [
       "<div>\n",
       "<style scoped>\n",
       "    .dataframe tbody tr th:only-of-type {\n",
       "        vertical-align: middle;\n",
       "    }\n",
       "\n",
       "    .dataframe tbody tr th {\n",
       "        vertical-align: top;\n",
       "    }\n",
       "\n",
       "    .dataframe thead th {\n",
       "        text-align: right;\n",
       "    }\n",
       "</style>\n",
       "<table border=\"1\" class=\"dataframe\">\n",
       "  <thead>\n",
       "    <tr style=\"text-align: right;\">\n",
       "      <th></th>\n",
       "      <th>df_pay_sal_2</th>\n",
       "      <th>df_pay</th>\n",
       "    </tr>\n",
       "  </thead>\n",
       "  <tbody>\n",
       "    <tr>\n",
       "      <th>df_pay_sal_2</th>\n",
       "      <td>1.000000</td>\n",
       "      <td>0.495838</td>\n",
       "    </tr>\n",
       "    <tr>\n",
       "      <th>df_pay</th>\n",
       "      <td>0.495838</td>\n",
       "      <td>1.000000</td>\n",
       "    </tr>\n",
       "  </tbody>\n",
       "</table>\n",
       "</div>"
      ],
      "text/plain": [
       "              df_pay_sal_2    df_pay\n",
       "df_pay_sal_2      1.000000  0.495838\n",
       "df_pay            0.495838  1.000000"
      ]
     },
     "execution_count": 198,
     "metadata": {},
     "output_type": "execute_result"
    }
   ],
   "source": [
    "# plot suggests the PAYMENT correlates with PAY/SALARY\n",
    "corr_df = pd.merge(df_pay_sal_2, df_pay, on='customer_id')\n",
    "corr_df.rename(columns = {'amount_x':'df_pay_sal_2', 'amount_y':'df_pay'}, inplace=True)\n",
    "corr_df.drop(['customer_id'], axis=1).corr()"
   ]
  },
  {
   "cell_type": "code",
   "execution_count": 199,
   "metadata": {},
   "outputs": [],
   "source": [
    "# for salary data, select rows which contain 'PAY/SALARY'\n",
    "df_sal = df[df['txn_description'].str.contains('PAY/SALARY')]"
   ]
  },
  {
   "cell_type": "code",
   "execution_count": 200,
   "metadata": {},
   "outputs": [],
   "source": [
    "# group by customer ID and sum amount to get salary amount for period August - October\n",
    "sal_data = df_sal.groupby(['customer_id'])['amount'].sum().reset_index()\n",
    "sal_data.rename(columns={'amount':'3mo_amount'}, inplace=True)"
   ]
  },
  {
   "cell_type": "code",
   "execution_count": 201,
   "metadata": {},
   "outputs": [],
   "source": [
    "# multiply the salary for August, September, October by 4 to get annual salary\n",
    "sal_data['annual_sal'] = sal_data['3mo_amount']*4"
   ]
  },
  {
   "cell_type": "code",
   "execution_count": 202,
   "metadata": {},
   "outputs": [
    {
     "data": {
      "text/html": [
       "<div>\n",
       "<style scoped>\n",
       "    .dataframe tbody tr th:only-of-type {\n",
       "        vertical-align: middle;\n",
       "    }\n",
       "\n",
       "    .dataframe tbody tr th {\n",
       "        vertical-align: top;\n",
       "    }\n",
       "\n",
       "    .dataframe thead th {\n",
       "        text-align: right;\n",
       "    }\n",
       "</style>\n",
       "<table border=\"1\" class=\"dataframe\">\n",
       "  <thead>\n",
       "    <tr style=\"text-align: right;\">\n",
       "      <th></th>\n",
       "      <th>3mo_amount</th>\n",
       "      <th>annual_sal</th>\n",
       "    </tr>\n",
       "  </thead>\n",
       "  <tbody>\n",
       "    <tr>\n",
       "      <th>count</th>\n",
       "      <td>100.000000</td>\n",
       "      <td>100.000000</td>\n",
       "    </tr>\n",
       "    <tr>\n",
       "      <th>mean</th>\n",
       "      <td>6897.888700</td>\n",
       "      <td>27591.554800</td>\n",
       "    </tr>\n",
       "    <tr>\n",
       "      <th>std</th>\n",
       "      <td>7302.536586</td>\n",
       "      <td>29210.146342</td>\n",
       "    </tr>\n",
       "    <tr>\n",
       "      <th>min</th>\n",
       "      <td>58.000000</td>\n",
       "      <td>232.000000</td>\n",
       "    </tr>\n",
       "    <tr>\n",
       "      <th>25%</th>\n",
       "      <td>203.000000</td>\n",
       "      <td>812.000000</td>\n",
       "    </tr>\n",
       "    <tr>\n",
       "      <th>50%</th>\n",
       "      <td>7321.980000</td>\n",
       "      <td>29287.920000</td>\n",
       "    </tr>\n",
       "    <tr>\n",
       "      <th>75%</th>\n",
       "      <td>12382.582500</td>\n",
       "      <td>49530.330000</td>\n",
       "    </tr>\n",
       "    <tr>\n",
       "      <th>max</th>\n",
       "      <td>25305.410000</td>\n",
       "      <td>101221.640000</td>\n",
       "    </tr>\n",
       "  </tbody>\n",
       "</table>\n",
       "</div>"
      ],
      "text/plain": [
       "         3mo_amount     annual_sal\n",
       "count    100.000000     100.000000\n",
       "mean    6897.888700   27591.554800\n",
       "std     7302.536586   29210.146342\n",
       "min       58.000000     232.000000\n",
       "25%      203.000000     812.000000\n",
       "50%     7321.980000   29287.920000\n",
       "75%    12382.582500   49530.330000\n",
       "max    25305.410000  101221.640000"
      ]
     },
     "execution_count": 202,
     "metadata": {},
     "output_type": "execute_result"
    }
   ],
   "source": [
    "# summarise the salary data\n",
    "sal_data.describe()"
   ]
  },
  {
   "cell_type": "code",
   "execution_count": 203,
   "metadata": {},
   "outputs": [
    {
     "data": {
      "image/png": "[encoded data removed]",
      "text/plain": [
       "<Figure size 432x288 with 1 Axes>"
      ]
     },
     "metadata": {
      "needs_background": "light"
     },
     "output_type": "display_data"
    }
   ],
   "source": [
    "# insepct to find outliers\n",
    "ax = sns.boxplot(sal_data['annual_sal'])"
   ]
  },
  {
   "cell_type": "code",
   "execution_count": 204,
   "metadata": {},
   "outputs": [],
   "source": [
    "# data generally seems reasonable (although salary of 812 seems a little low)\n",
    "# find outliers using z score\n",
    "z = np.abs(stats.zscore(sal_data['annual_sal']))"
   ]
  },
  {
   "cell_type": "code",
   "execution_count": 205,
   "metadata": {},
   "outputs": [
    {
     "data": {
      "text/plain": [
       "2.5334012058536106"
      ]
     },
     "execution_count": 205,
     "metadata": {},
     "output_type": "execute_result"
    }
   ],
   "source": [
    "# set threshold at which outliers should be excluded\n",
    "threshold=3\n",
    "\n",
    "# get max value of z to find outliers\n",
    "z.max()"
   ]
  },
  {
   "cell_type": "code",
   "execution_count": 206,
   "metadata": {},
   "outputs": [
    {
     "data": {
      "text/plain": [
       "array([[<AxesSubplot:title={'center':'3mo_amount'}>,\n",
       "        <AxesSubplot:title={'center':'annual_sal'}>]], dtype=object)"
      ]
     },
     "execution_count": 206,
     "metadata": {},
     "output_type": "execute_result"
    },
    {
     "data": {
      "image/png": "[encoded data removed]",
      "text/plain": [
       "<Figure size 432x288 with 2 Axes>"
      ]
     },
     "metadata": {
      "needs_background": "light"
     },
     "output_type": "display_data"
    }
   ],
   "source": [
    "# no z values above 3, plot histogram to inspect visually\n",
    "sal_data.hist()"
   ]
  },
  {
   "cell_type": "code",
   "execution_count": 207,
   "metadata": {},
   "outputs": [
    {
     "data": {
      "text/plain": [
       "array([[<AxesSubplot:title={'center':'3mo_amount'}>,\n",
       "        <AxesSubplot:title={'center':'annual_sal'}>]], dtype=object)"
      ]
     },
     "execution_count": 207,
     "metadata": {},
     "output_type": "execute_result"
    },
    {
     "data": {
      "image/png": "[encoded data removed]",
      "text/plain": [
       "<Figure size 432x288 with 2 Axes>"
      ]
     },
     "metadata": {
      "needs_background": "light"
     },
     "output_type": "display_data"
    }
   ],
   "source": [
    "# histogram suggests the data is highly skewed by the presence of very low values\n",
    "# which deviate from the general pattern of the data and distribution\n",
    "\n",
    "# drop data which falls below 2000 as these values skew the data\n",
    "sal_data = sal_data[sal_data['annual_sal']>=2000]\n",
    "sal_data.hist()"
   ]
  },
  {
   "cell_type": "code",
   "execution_count": 208,
   "metadata": {},
   "outputs": [
    {
     "data": {
      "text/html": [
       "<div>\n",
       "<style scoped>\n",
       "    .dataframe tbody tr th:only-of-type {\n",
       "        vertical-align: middle;\n",
       "    }\n",
       "\n",
       "    .dataframe tbody tr th {\n",
       "        vertical-align: top;\n",
       "    }\n",
       "\n",
       "    .dataframe thead th {\n",
       "        text-align: right;\n",
       "    }\n",
       "</style>\n",
       "<table border=\"1\" class=\"dataframe\">\n",
       "  <thead>\n",
       "    <tr style=\"text-align: right;\">\n",
       "      <th></th>\n",
       "      <th>3mo_amount</th>\n",
       "      <th>annual_sal</th>\n",
       "    </tr>\n",
       "  </thead>\n",
       "  <tbody>\n",
       "    <tr>\n",
       "      <th>count</th>\n",
       "      <td>51.000000</td>\n",
       "      <td>51.000000</td>\n",
       "    </tr>\n",
       "    <tr>\n",
       "      <th>mean</th>\n",
       "      <td>13343.879804</td>\n",
       "      <td>53375.519216</td>\n",
       "    </tr>\n",
       "    <tr>\n",
       "      <th>std</th>\n",
       "      <td>4369.121301</td>\n",
       "      <td>17476.485205</td>\n",
       "    </tr>\n",
       "    <tr>\n",
       "      <th>min</th>\n",
       "      <td>7155.960000</td>\n",
       "      <td>28623.840000</td>\n",
       "    </tr>\n",
       "    <tr>\n",
       "      <th>25%</th>\n",
       "      <td>10074.170000</td>\n",
       "      <td>40296.680000</td>\n",
       "    </tr>\n",
       "    <tr>\n",
       "      <th>50%</th>\n",
       "      <td>12304.740000</td>\n",
       "      <td>49218.960000</td>\n",
       "    </tr>\n",
       "    <tr>\n",
       "      <th>75%</th>\n",
       "      <td>14878.415000</td>\n",
       "      <td>59513.660000</td>\n",
       "    </tr>\n",
       "    <tr>\n",
       "      <th>max</th>\n",
       "      <td>25305.410000</td>\n",
       "      <td>101221.640000</td>\n",
       "    </tr>\n",
       "  </tbody>\n",
       "</table>\n",
       "</div>"
      ],
      "text/plain": [
       "         3mo_amount     annual_sal\n",
       "count     51.000000      51.000000\n",
       "mean   13343.879804   53375.519216\n",
       "std     4369.121301   17476.485205\n",
       "min     7155.960000   28623.840000\n",
       "25%    10074.170000   40296.680000\n",
       "50%    12304.740000   49218.960000\n",
       "75%    14878.415000   59513.660000\n",
       "max    25305.410000  101221.640000"
      ]
     },
     "execution_count": 208,
     "metadata": {},
     "output_type": "execute_result"
    }
   ],
   "source": [
    "# summarise amended salary data\n",
    "sal_data.describe()\n",
    "# this looks more reasonable"
   ]
  },
  {
   "cell_type": "code",
   "execution_count": 209,
   "metadata": {},
   "outputs": [
    {
     "data": {
      "text/html": [
       "<div>\n",
       "<style scoped>\n",
       "    .dataframe tbody tr th:only-of-type {\n",
       "        vertical-align: middle;\n",
       "    }\n",
       "\n",
       "    .dataframe tbody tr th {\n",
       "        vertical-align: top;\n",
       "    }\n",
       "\n",
       "    .dataframe thead th {\n",
       "        text-align: right;\n",
       "    }\n",
       "</style>\n",
       "<table border=\"1\" class=\"dataframe\">\n",
       "  <thead>\n",
       "    <tr style=\"text-align: right;\">\n",
       "      <th></th>\n",
       "      <th>customer_id</th>\n",
       "      <th>age</th>\n",
       "      <th>gender</th>\n",
       "      <th>long_lat</th>\n",
       "      <th>balance</th>\n",
       "    </tr>\n",
       "  </thead>\n",
       "  <tbody>\n",
       "    <tr>\n",
       "      <th>0</th>\n",
       "      <td>CUS-1005756958</td>\n",
       "      <td>53.0</td>\n",
       "      <td>F</td>\n",
       "      <td>153.03 -27.51</td>\n",
       "      <td>9310.03</td>\n",
       "    </tr>\n",
       "    <tr>\n",
       "      <th>1</th>\n",
       "      <td>CUS-1117979751</td>\n",
       "      <td>21.0</td>\n",
       "      <td>M</td>\n",
       "      <td>115.81 -31.82</td>\n",
       "      <td>18516.40</td>\n",
       "    </tr>\n",
       "    <tr>\n",
       "      <th>2</th>\n",
       "      <td>CUS-1140341822</td>\n",
       "      <td>28.0</td>\n",
       "      <td>M</td>\n",
       "      <td>144.97 -37.42</td>\n",
       "      <td>7658.48</td>\n",
       "    </tr>\n",
       "    <tr>\n",
       "      <th>3</th>\n",
       "      <td>CUS-1147642491</td>\n",
       "      <td>34.0</td>\n",
       "      <td>F</td>\n",
       "      <td>151.04 -33.77</td>\n",
       "      <td>15532.46</td>\n",
       "    </tr>\n",
       "    <tr>\n",
       "      <th>4</th>\n",
       "      <td>CUS-1196156254</td>\n",
       "      <td>34.0</td>\n",
       "      <td>F</td>\n",
       "      <td>138.52 -35.01</td>\n",
       "      <td>31350.50</td>\n",
       "    </tr>\n",
       "  </tbody>\n",
       "</table>\n",
       "</div>"
      ],
      "text/plain": [
       "      customer_id   age gender       long_lat   balance\n",
       "0  CUS-1005756958  53.0      F  153.03 -27.51   9310.03\n",
       "1  CUS-1117979751  21.0      M  115.81 -31.82  18516.40\n",
       "2  CUS-1140341822  28.0      M  144.97 -37.42   7658.48\n",
       "3  CUS-1147642491  34.0      F  151.04 -33.77  15532.46\n",
       "4  CUS-1196156254  34.0      F  138.52 -35.01  31350.50"
      ]
     },
     "execution_count": 209,
     "metadata": {},
     "output_type": "execute_result"
    }
   ],
   "source": [
    "# join customer attributes to salary dataframe to create new dataframe for predictive model\n",
    "# attributes which may help inform predictions include\n",
    "# ['age', 'gender', 'long_lat', 'balance']\n",
    "# returning the max will return the value for the customer (min or max doesn't matter as will return same value)\n",
    "\n",
    "cust_data = df_sal.groupby(['customer_id'])[['age','gender','long_lat', 'balance']].max().reset_index()\n",
    "cust_data.head()"
   ]
  },
  {
   "cell_type": "code",
   "execution_count": 212,
   "metadata": {},
   "outputs": [
    {
     "data": {
      "text/html": [
       "<div>\n",
       "<style scoped>\n",
       "    .dataframe tbody tr th:only-of-type {\n",
       "        vertical-align: middle;\n",
       "    }\n",
       "\n",
       "    .dataframe tbody tr th {\n",
       "        vertical-align: top;\n",
       "    }\n",
       "\n",
       "    .dataframe thead th {\n",
       "        text-align: right;\n",
       "    }\n",
       "</style>\n",
       "<table border=\"1\" class=\"dataframe\">\n",
       "  <thead>\n",
       "    <tr style=\"text-align: right;\">\n",
       "      <th></th>\n",
       "      <th>customer_id</th>\n",
       "      <th>3mo_amount</th>\n",
       "      <th>annual_sal</th>\n",
       "      <th>age</th>\n",
       "      <th>gender</th>\n",
       "      <th>long_lat</th>\n",
       "      <th>balance</th>\n",
       "    </tr>\n",
       "  </thead>\n",
       "  <tbody>\n",
       "    <tr>\n",
       "      <th>0</th>\n",
       "      <td>CUS-1005756958</td>\n",
       "      <td>12616.11</td>\n",
       "      <td>50464.44</td>\n",
       "      <td>53.0</td>\n",
       "      <td>F</td>\n",
       "      <td>153.03 -27.51</td>\n",
       "      <td>9310.03</td>\n",
       "    </tr>\n",
       "    <tr>\n",
       "      <th>1</th>\n",
       "      <td>CUS-1140341822</td>\n",
       "      <td>11499.06</td>\n",
       "      <td>45996.24</td>\n",
       "      <td>28.0</td>\n",
       "      <td>M</td>\n",
       "      <td>144.97 -37.42</td>\n",
       "      <td>7658.48</td>\n",
       "    </tr>\n",
       "    <tr>\n",
       "      <th>2</th>\n",
       "      <td>CUS-1147642491</td>\n",
       "      <td>22248.07</td>\n",
       "      <td>88992.28</td>\n",
       "      <td>34.0</td>\n",
       "      <td>F</td>\n",
       "      <td>151.04 -33.77</td>\n",
       "      <td>15532.46</td>\n",
       "    </tr>\n",
       "    <tr>\n",
       "      <th>3</th>\n",
       "      <td>CUS-1233833708</td>\n",
       "      <td>7155.96</td>\n",
       "      <td>28623.84</td>\n",
       "      <td>44.0</td>\n",
       "      <td>M</td>\n",
       "      <td>145.18 -37.90</td>\n",
       "      <td>7218.79</td>\n",
       "    </tr>\n",
       "    <tr>\n",
       "      <th>4</th>\n",
       "      <td>CUS-1271030853</td>\n",
       "      <td>16214.10</td>\n",
       "      <td>64856.40</td>\n",
       "      <td>30.0</td>\n",
       "      <td>F</td>\n",
       "      <td>145.04 -37.85</td>\n",
       "      <td>9327.64</td>\n",
       "    </tr>\n",
       "  </tbody>\n",
       "</table>\n",
       "</div>"
      ],
      "text/plain": [
       "      customer_id  3mo_amount  annual_sal   age gender       long_lat  \\\n",
       "0  CUS-1005756958    12616.11    50464.44  53.0      F  153.03 -27.51   \n",
       "1  CUS-1140341822    11499.06    45996.24  28.0      M  144.97 -37.42   \n",
       "2  CUS-1147642491    22248.07    88992.28  34.0      F  151.04 -33.77   \n",
       "3  CUS-1233833708     7155.96    28623.84  44.0      M  145.18 -37.90   \n",
       "4  CUS-1271030853    16214.10    64856.40  30.0      F  145.04 -37.85   \n",
       "\n",
       "    balance  \n",
       "0   9310.03  \n",
       "1   7658.48  \n",
       "2  15532.46  \n",
       "3   7218.79  \n",
       "4   9327.64  "
      ]
     },
     "execution_count": 212,
     "metadata": {},
     "output_type": "execute_result"
    }
   ],
   "source": [
    "# merge data frames\n",
    "df_merge = pd.merge(sal_data, cust_data, on = 'customer_id')\n",
    "df_merge.head()"
   ]
  },
  {
   "cell_type": "code",
   "execution_count": 213,
   "metadata": {},
   "outputs": [
    {
     "data": {
      "text/html": [
       "<div>\n",
       "<style scoped>\n",
       "    .dataframe tbody tr th:only-of-type {\n",
       "        vertical-align: middle;\n",
       "    }\n",
       "\n",
       "    .dataframe tbody tr th {\n",
       "        vertical-align: top;\n",
       "    }\n",
       "\n",
       "    .dataframe thead th {\n",
       "        text-align: right;\n",
       "    }\n",
       "</style>\n",
       "<table border=\"1\" class=\"dataframe\">\n",
       "  <thead>\n",
       "    <tr style=\"text-align: right;\">\n",
       "      <th></th>\n",
       "      <th>customer_id</th>\n",
       "      <th>3mo_amount</th>\n",
       "      <th>annual_sal</th>\n",
       "      <th>age</th>\n",
       "      <th>gender</th>\n",
       "      <th>long_lat</th>\n",
       "      <th>balance</th>\n",
       "      <th>amount</th>\n",
       "    </tr>\n",
       "  </thead>\n",
       "  <tbody>\n",
       "    <tr>\n",
       "      <th>0</th>\n",
       "      <td>CUS-1005756958</td>\n",
       "      <td>12616.11</td>\n",
       "      <td>50464.44</td>\n",
       "      <td>53.0</td>\n",
       "      <td>F</td>\n",
       "      <td>153.03 -27.51</td>\n",
       "      <td>9310.03</td>\n",
       "      <td>1296.0</td>\n",
       "    </tr>\n",
       "    <tr>\n",
       "      <th>1</th>\n",
       "      <td>CUS-1140341822</td>\n",
       "      <td>11499.06</td>\n",
       "      <td>45996.24</td>\n",
       "      <td>28.0</td>\n",
       "      <td>M</td>\n",
       "      <td>144.97 -37.42</td>\n",
       "      <td>7658.48</td>\n",
       "      <td>852.0</td>\n",
       "    </tr>\n",
       "    <tr>\n",
       "      <th>2</th>\n",
       "      <td>CUS-1147642491</td>\n",
       "      <td>22248.07</td>\n",
       "      <td>88992.28</td>\n",
       "      <td>34.0</td>\n",
       "      <td>F</td>\n",
       "      <td>151.04 -33.77</td>\n",
       "      <td>15532.46</td>\n",
       "      <td>2597.0</td>\n",
       "    </tr>\n",
       "    <tr>\n",
       "      <th>3</th>\n",
       "      <td>CUS-1233833708</td>\n",
       "      <td>7155.96</td>\n",
       "      <td>28623.84</td>\n",
       "      <td>44.0</td>\n",
       "      <td>M</td>\n",
       "      <td>145.18 -37.90</td>\n",
       "      <td>7218.79</td>\n",
       "      <td>2313.0</td>\n",
       "    </tr>\n",
       "    <tr>\n",
       "      <th>4</th>\n",
       "      <td>CUS-1271030853</td>\n",
       "      <td>16214.10</td>\n",
       "      <td>64856.40</td>\n",
       "      <td>30.0</td>\n",
       "      <td>F</td>\n",
       "      <td>145.04 -37.85</td>\n",
       "      <td>9327.64</td>\n",
       "      <td>1941.0</td>\n",
       "    </tr>\n",
       "  </tbody>\n",
       "</table>\n",
       "</div>"
      ],
      "text/plain": [
       "      customer_id  3mo_amount  annual_sal   age gender       long_lat  \\\n",
       "0  CUS-1005756958    12616.11    50464.44  53.0      F  153.03 -27.51   \n",
       "1  CUS-1140341822    11499.06    45996.24  28.0      M  144.97 -37.42   \n",
       "2  CUS-1147642491    22248.07    88992.28  34.0      F  151.04 -33.77   \n",
       "3  CUS-1233833708     7155.96    28623.84  44.0      M  145.18 -37.90   \n",
       "4  CUS-1271030853    16214.10    64856.40  30.0      F  145.04 -37.85   \n",
       "\n",
       "    balance  amount  \n",
       "0   9310.03  1296.0  \n",
       "1   7658.48   852.0  \n",
       "2  15532.46  2597.0  \n",
       "3   7218.79  2313.0  \n",
       "4   9327.64  1941.0  "
      ]
     },
     "execution_count": 213,
     "metadata": {},
     "output_type": "execute_result"
    }
   ],
   "source": [
    "# add PAYMENT data to dataframe as earlier analysis showed this was correlated with PAY/SALARY\n",
    "df_merge = pd.merge(df_merge, df_pay, on='customer_id')\n",
    "df_merge.head()"
   ]
  },
  {
   "cell_type": "code",
   "execution_count": 214,
   "metadata": {},
   "outputs": [
    {
     "data": {
      "text/html": [
       "<div>\n",
       "<style scoped>\n",
       "    .dataframe tbody tr th:only-of-type {\n",
       "        vertical-align: middle;\n",
       "    }\n",
       "\n",
       "    .dataframe tbody tr th {\n",
       "        vertical-align: top;\n",
       "    }\n",
       "\n",
       "    .dataframe thead th {\n",
       "        text-align: right;\n",
       "    }\n",
       "</style>\n",
       "<table border=\"1\" class=\"dataframe\">\n",
       "  <thead>\n",
       "    <tr style=\"text-align: right;\">\n",
       "      <th></th>\n",
       "      <th>customer_id</th>\n",
       "      <th>3mo_amount</th>\n",
       "      <th>annual_sal</th>\n",
       "      <th>age</th>\n",
       "      <th>gender</th>\n",
       "      <th>long_lat</th>\n",
       "      <th>balance</th>\n",
       "      <th>PAYMENT</th>\n",
       "    </tr>\n",
       "  </thead>\n",
       "  <tbody>\n",
       "    <tr>\n",
       "      <th>0</th>\n",
       "      <td>CUS-1005756958</td>\n",
       "      <td>12616.11</td>\n",
       "      <td>50464.44</td>\n",
       "      <td>53.0</td>\n",
       "      <td>F</td>\n",
       "      <td>153.03 -27.51</td>\n",
       "      <td>9310.03</td>\n",
       "      <td>1296.0</td>\n",
       "    </tr>\n",
       "    <tr>\n",
       "      <th>1</th>\n",
       "      <td>CUS-1140341822</td>\n",
       "      <td>11499.06</td>\n",
       "      <td>45996.24</td>\n",
       "      <td>28.0</td>\n",
       "      <td>M</td>\n",
       "      <td>144.97 -37.42</td>\n",
       "      <td>7658.48</td>\n",
       "      <td>852.0</td>\n",
       "    </tr>\n",
       "    <tr>\n",
       "      <th>2</th>\n",
       "      <td>CUS-1147642491</td>\n",
       "      <td>22248.07</td>\n",
       "      <td>88992.28</td>\n",
       "      <td>34.0</td>\n",
       "      <td>F</td>\n",
       "      <td>151.04 -33.77</td>\n",
       "      <td>15532.46</td>\n",
       "      <td>2597.0</td>\n",
       "    </tr>\n",
       "    <tr>\n",
       "      <th>3</th>\n",
       "      <td>CUS-1233833708</td>\n",
       "      <td>7155.96</td>\n",
       "      <td>28623.84</td>\n",
       "      <td>44.0</td>\n",
       "      <td>M</td>\n",
       "      <td>145.18 -37.90</td>\n",
       "      <td>7218.79</td>\n",
       "      <td>2313.0</td>\n",
       "    </tr>\n",
       "    <tr>\n",
       "      <th>4</th>\n",
       "      <td>CUS-1271030853</td>\n",
       "      <td>16214.10</td>\n",
       "      <td>64856.40</td>\n",
       "      <td>30.0</td>\n",
       "      <td>F</td>\n",
       "      <td>145.04 -37.85</td>\n",
       "      <td>9327.64</td>\n",
       "      <td>1941.0</td>\n",
       "    </tr>\n",
       "  </tbody>\n",
       "</table>\n",
       "</div>"
      ],
      "text/plain": [
       "      customer_id  3mo_amount  annual_sal   age gender       long_lat  \\\n",
       "0  CUS-1005756958    12616.11    50464.44  53.0      F  153.03 -27.51   \n",
       "1  CUS-1140341822    11499.06    45996.24  28.0      M  144.97 -37.42   \n",
       "2  CUS-1147642491    22248.07    88992.28  34.0      F  151.04 -33.77   \n",
       "3  CUS-1233833708     7155.96    28623.84  44.0      M  145.18 -37.90   \n",
       "4  CUS-1271030853    16214.10    64856.40  30.0      F  145.04 -37.85   \n",
       "\n",
       "    balance  PAYMENT  \n",
       "0   9310.03   1296.0  \n",
       "1   7658.48    852.0  \n",
       "2  15532.46   2597.0  \n",
       "3   7218.79   2313.0  \n",
       "4   9327.64   1941.0  "
      ]
     },
     "execution_count": 214,
     "metadata": {},
     "output_type": "execute_result"
    }
   ],
   "source": [
    "df_merge.rename(columns={'amount':'PAYMENT'}, inplace=True)"
   ]
  },
  {
   "cell_type": "code",
   "execution_count": 219,
   "metadata": {},
   "outputs": [
    {
     "name": "stdout",
     "output_type": "stream",
     "text": [
      "      customer_id  3mo_amount  annual_sal\n",
      "2  CUS-1140341822    11499.06    45996.24 \n",
      "\n",
      "       customer_id   age gender       long_lat  balance\n",
      "2  CUS-1140341822  28.0      M  144.97 -37.42  7658.48 \n",
      "\n",
      "       customer_id  amount\n",
      "2  CUS-1140341822   852.0\n"
     ]
    }
   ],
   "source": [
    "# verify merge\n",
    "print(sal_data[sal_data['customer_id'] == 'CUS-1140341822'], '\\n\\n', cust_data[cust_data['customer_id'] == 'CUS-1140341822'], '\\n\\n', df_pay[df_pay['customer_id'] == 'CUS-1140341822'])"
   ]
  },
  {
   "cell_type": "code",
   "execution_count": 222,
   "metadata": {},
   "outputs": [],
   "source": [
    "# Prepare data for modelling by dropping columns that won't be used\n",
    "# drop 3mo_amount column\n",
    "df_merge = df_merge.drop(['3mo_amount'],axis=1)\n",
    "\n",
    "# also drop customer_id column as customer_id is unique and won't correlate with salary\n",
    "df_merge = df_merge.drop(['customer_id'], axis=1)"
   ]
  },
  {
   "cell_type": "code",
   "execution_count": 223,
   "metadata": {},
   "outputs": [
    {
     "data": {
      "image/png": "[encoded data removed]",
      "text/plain": [
       "<Figure size 432x288 with 2 Axes>"
      ]
     },
     "metadata": {
      "needs_background": "light"
     },
     "output_type": "display_data"
    }
   ],
   "source": [
    "# check correlation\n",
    "ax = sns.heatmap(df_merge.corr(), annot=True)"
   ]
  },
  {
   "cell_type": "code",
   "execution_count": 224,
   "metadata": {},
   "outputs": [
    {
     "data": {
      "text/html": [
       "<div>\n",
       "<style scoped>\n",
       "    .dataframe tbody tr th:only-of-type {\n",
       "        vertical-align: middle;\n",
       "    }\n",
       "\n",
       "    .dataframe tbody tr th {\n",
       "        vertical-align: top;\n",
       "    }\n",
       "\n",
       "    .dataframe thead th {\n",
       "        text-align: right;\n",
       "    }\n",
       "</style>\n",
       "<table border=\"1\" class=\"dataframe\">\n",
       "  <thead>\n",
       "    <tr style=\"text-align: right;\">\n",
       "      <th></th>\n",
       "      <th>annual_sal</th>\n",
       "      <th>age</th>\n",
       "      <th>balance</th>\n",
       "      <th>PAYMENT</th>\n",
       "      <th>gender_F</th>\n",
       "      <th>gender_M</th>\n",
       "      <th>long_lat_114.62 -28.80</th>\n",
       "      <th>long_lat_115.72 -32.28</th>\n",
       "      <th>long_lat_115.74 -31.72</th>\n",
       "      <th>long_lat_115.78 -31.90</th>\n",
       "      <th>...</th>\n",
       "      <th>long_lat_151.18 -33.80</th>\n",
       "      <th>long_lat_151.23 -33.94</th>\n",
       "      <th>long_lat_151.27 -33.85</th>\n",
       "      <th>long_lat_151.27 -33.90</th>\n",
       "      <th>long_lat_153.03 -27.51</th>\n",
       "      <th>long_lat_153.05 -27.61</th>\n",
       "      <th>long_lat_153.09 -27.48</th>\n",
       "      <th>long_lat_153.10 -27.66</th>\n",
       "      <th>long_lat_153.32 -27.93</th>\n",
       "      <th>long_lat_153.41 -27.95</th>\n",
       "    </tr>\n",
       "  </thead>\n",
       "  <tbody>\n",
       "    <tr>\n",
       "      <th>0</th>\n",
       "      <td>50464.44</td>\n",
       "      <td>53.0</td>\n",
       "      <td>9310.03</td>\n",
       "      <td>1296.0</td>\n",
       "      <td>1</td>\n",
       "      <td>0</td>\n",
       "      <td>0</td>\n",
       "      <td>0</td>\n",
       "      <td>0</td>\n",
       "      <td>0</td>\n",
       "      <td>...</td>\n",
       "      <td>0</td>\n",
       "      <td>0</td>\n",
       "      <td>0</td>\n",
       "      <td>0</td>\n",
       "      <td>1</td>\n",
       "      <td>0</td>\n",
       "      <td>0</td>\n",
       "      <td>0</td>\n",
       "      <td>0</td>\n",
       "      <td>0</td>\n",
       "    </tr>\n",
       "    <tr>\n",
       "      <th>1</th>\n",
       "      <td>45996.24</td>\n",
       "      <td>28.0</td>\n",
       "      <td>7658.48</td>\n",
       "      <td>852.0</td>\n",
       "      <td>0</td>\n",
       "      <td>1</td>\n",
       "      <td>0</td>\n",
       "      <td>0</td>\n",
       "      <td>0</td>\n",
       "      <td>0</td>\n",
       "      <td>...</td>\n",
       "      <td>0</td>\n",
       "      <td>0</td>\n",
       "      <td>0</td>\n",
       "      <td>0</td>\n",
       "      <td>0</td>\n",
       "      <td>0</td>\n",
       "      <td>0</td>\n",
       "      <td>0</td>\n",
       "      <td>0</td>\n",
       "      <td>0</td>\n",
       "    </tr>\n",
       "    <tr>\n",
       "      <th>2</th>\n",
       "      <td>88992.28</td>\n",
       "      <td>34.0</td>\n",
       "      <td>15532.46</td>\n",
       "      <td>2597.0</td>\n",
       "      <td>1</td>\n",
       "      <td>0</td>\n",
       "      <td>0</td>\n",
       "      <td>0</td>\n",
       "      <td>0</td>\n",
       "      <td>0</td>\n",
       "      <td>...</td>\n",
       "      <td>0</td>\n",
       "      <td>0</td>\n",
       "      <td>0</td>\n",
       "      <td>0</td>\n",
       "      <td>0</td>\n",
       "      <td>0</td>\n",
       "      <td>0</td>\n",
       "      <td>0</td>\n",
       "      <td>0</td>\n",
       "      <td>0</td>\n",
       "    </tr>\n",
       "    <tr>\n",
       "      <th>3</th>\n",
       "      <td>28623.84</td>\n",
       "      <td>44.0</td>\n",
       "      <td>7218.79</td>\n",
       "      <td>2313.0</td>\n",
       "      <td>0</td>\n",
       "      <td>1</td>\n",
       "      <td>0</td>\n",
       "      <td>0</td>\n",
       "      <td>0</td>\n",
       "      <td>0</td>\n",
       "      <td>...</td>\n",
       "      <td>0</td>\n",
       "      <td>0</td>\n",
       "      <td>0</td>\n",
       "      <td>0</td>\n",
       "      <td>0</td>\n",
       "      <td>0</td>\n",
       "      <td>0</td>\n",
       "      <td>0</td>\n",
       "      <td>0</td>\n",
       "      <td>0</td>\n",
       "    </tr>\n",
       "    <tr>\n",
       "      <th>4</th>\n",
       "      <td>64856.40</td>\n",
       "      <td>30.0</td>\n",
       "      <td>9327.64</td>\n",
       "      <td>1941.0</td>\n",
       "      <td>1</td>\n",
       "      <td>0</td>\n",
       "      <td>0</td>\n",
       "      <td>0</td>\n",
       "      <td>0</td>\n",
       "      <td>0</td>\n",
       "      <td>...</td>\n",
       "      <td>0</td>\n",
       "      <td>0</td>\n",
       "      <td>0</td>\n",
       "      <td>0</td>\n",
       "      <td>0</td>\n",
       "      <td>0</td>\n",
       "      <td>0</td>\n",
       "      <td>0</td>\n",
       "      <td>0</td>\n",
       "      <td>0</td>\n",
       "    </tr>\n",
       "  </tbody>\n",
       "</table>\n",
       "<p>5 rows × 57 columns</p>\n",
       "</div>"
      ],
      "text/plain": [
       "   annual_sal   age   balance  PAYMENT  gender_F  gender_M  \\\n",
       "0    50464.44  53.0   9310.03   1296.0         1         0   \n",
       "1    45996.24  28.0   7658.48    852.0         0         1   \n",
       "2    88992.28  34.0  15532.46   2597.0         1         0   \n",
       "3    28623.84  44.0   7218.79   2313.0         0         1   \n",
       "4    64856.40  30.0   9327.64   1941.0         1         0   \n",
       "\n",
       "   long_lat_114.62 -28.80  long_lat_115.72 -32.28  long_lat_115.74 -31.72  \\\n",
       "0                       0                       0                       0   \n",
       "1                       0                       0                       0   \n",
       "2                       0                       0                       0   \n",
       "3                       0                       0                       0   \n",
       "4                       0                       0                       0   \n",
       "\n",
       "   long_lat_115.78 -31.90  ...  long_lat_151.18 -33.80  \\\n",
       "0                       0  ...                       0   \n",
       "1                       0  ...                       0   \n",
       "2                       0  ...                       0   \n",
       "3                       0  ...                       0   \n",
       "4                       0  ...                       0   \n",
       "\n",
       "   long_lat_151.23 -33.94  long_lat_151.27 -33.85  long_lat_151.27 -33.90  \\\n",
       "0                       0                       0                       0   \n",
       "1                       0                       0                       0   \n",
       "2                       0                       0                       0   \n",
       "3                       0                       0                       0   \n",
       "4                       0                       0                       0   \n",
       "\n",
       "   long_lat_153.03 -27.51  long_lat_153.05 -27.61  long_lat_153.09 -27.48  \\\n",
       "0                       1                       0                       0   \n",
       "1                       0                       0                       0   \n",
       "2                       0                       0                       0   \n",
       "3                       0                       0                       0   \n",
       "4                       0                       0                       0   \n",
       "\n",
       "   long_lat_153.10 -27.66  long_lat_153.32 -27.93  long_lat_153.41 -27.95  \n",
       "0                       0                       0                       0  \n",
       "1                       0                       0                       0  \n",
       "2                       0                       0                       0  \n",
       "3                       0                       0                       0  \n",
       "4                       0                       0                       0  \n",
       "\n",
       "[5 rows x 57 columns]"
      ]
     },
     "execution_count": 224,
     "metadata": {},
     "output_type": "execute_result"
    }
   ],
   "source": [
    "# get dummy data to autoencode categorical variables\n",
    "df_merge = pd.get_dummies(df_merge)\n",
    "df_merge.head()"
   ]
  },
  {
   "cell_type": "markdown",
   "metadata": {},
   "source": [
    "# Model Building"
   ]
  },
  {
   "cell_type": "code",
   "execution_count": 225,
   "metadata": {},
   "outputs": [],
   "source": [
    "# set target variable y and features X\n",
    "y = df_merge['annual_sal']\n",
    "X = df_merge.drop(['annual_sal'],axis=1)"
   ]
  },
  {
   "cell_type": "code",
   "execution_count": 226,
   "metadata": {},
   "outputs": [],
   "source": [
    "# generate train and test variables\n",
    "X_train, X_test, y_train, y_test = train_test_split(X, y, test_size = 0.2, random_state=42)"
   ]
  },
  {
   "cell_type": "markdown",
   "metadata": {},
   "source": [
    "## Linear Model"
   ]
  },
  {
   "cell_type": "code",
   "execution_count": 227,
   "metadata": {},
   "outputs": [
    {
     "data": {
      "text/plain": [
       "LinearRegression()"
      ]
     },
     "execution_count": 227,
     "metadata": {},
     "output_type": "execute_result"
    }
   ],
   "source": [
    "# create and fit linear model to predict annual salary\n",
    "lr = LinearRegression()\n",
    "lr.fit(X_train, y_train)"
   ]
  },
  {
   "cell_type": "code",
   "execution_count": 228,
   "metadata": {},
   "outputs": [
    {
     "data": {
      "text/plain": [
       "-12017.524231354038"
      ]
     },
     "execution_count": 228,
     "metadata": {},
     "output_type": "execute_result"
    }
   ],
   "source": [
    "# check score using neg_mean_absolute_error\n",
    "lr_score = np.mean(cross_val_score(lr, X_train, y_train, scoring='neg_mean_absolute_error', cv=7))\n",
    "lr_score"
   ]
  },
  {
   "cell_type": "code",
   "execution_count": 229,
   "metadata": {},
   "outputs": [],
   "source": [
    "# generate predictions\n",
    "pred_lr = lr.predict(X_test)"
   ]
  },
  {
   "cell_type": "code",
   "execution_count": 230,
   "metadata": {},
   "outputs": [
    {
     "name": "stdout",
     "output_type": "stream",
     "text": [
      "mae_lr =  17888.572943003066\n"
     ]
    }
   ],
   "source": [
    "# test error on prediction against y_test\n",
    "print('mae_lr = ', mean_absolute_error(y_test, pred_lr))"
   ]
  },
  {
   "cell_type": "markdown",
   "metadata": {},
   "source": [
    "## Decision Tree (Random Forest) Model"
   ]
  },
  {
   "cell_type": "code",
   "execution_count": 231,
   "metadata": {},
   "outputs": [
    {
     "data": {
      "text/plain": [
       "RandomForestRegressor()"
      ]
     },
     "execution_count": 231,
     "metadata": {},
     "output_type": "execute_result"
    }
   ],
   "source": [
    "#  create and fit Random Forest model to predict annual salary\n",
    "rf = RandomForestRegressor()\n",
    "rf.fit(X_train, y_train)"
   ]
  },
  {
   "cell_type": "code",
   "execution_count": 232,
   "metadata": {},
   "outputs": [
    {
     "data": {
      "text/plain": [
       "-12343.203182857136"
      ]
     },
     "execution_count": 232,
     "metadata": {},
     "output_type": "execute_result"
    }
   ],
   "source": [
    "# check score using neg_mean_absolute_error\n",
    "rf_score = np.mean(cross_val_score(rf, X_train, y_train, scoring='neg_mean_absolute_error', cv=7))\n",
    "rf_score"
   ]
  },
  {
   "cell_type": "code",
   "execution_count": 233,
   "metadata": {},
   "outputs": [],
   "source": [
    "# generate prediction\n",
    "pred_rf = rf.predict(X_test)"
   ]
  },
  {
   "cell_type": "code",
   "execution_count": 234,
   "metadata": {},
   "outputs": [
    {
     "name": "stdout",
     "output_type": "stream",
     "text": [
      "mae_rf =  14340.115999999996\n"
     ]
    }
   ],
   "source": [
    "# test error on prediction against y_test\n",
    "print('mae_rf = ', mean_absolute_error(y_test, pred_rf))"
   ]
  },
  {
   "cell_type": "markdown",
   "metadata": {},
   "source": [
    "## Hyperparameter Tuning"
   ]
  },
  {
   "cell_type": "code",
   "execution_count": 235,
   "metadata": {},
   "outputs": [],
   "source": [
    "# tune random forest using Gridserachcv\n",
    "# set parameters for tuning\n",
    "parameters = {'n_estimators': range(10, 300, 10), 'criterion': ('mse', 'mae'), 'max_features': ('auto', 'sqrt', 'log2')}"
   ]
  },
  {
   "cell_type": "code",
   "execution_count": 245,
   "metadata": {},
   "outputs": [
    {
     "data": {
      "text/plain": [
       "GridSearchCV(cv=3, estimator=RandomForestRegressor(),\n",
       "             param_grid={'criterion': ('mse', 'mae'),\n",
       "                         'max_features': ('auto', 'sqrt', 'log2'),\n",
       "                         'n_estimators': range(10, 300, 10)},\n",
       "             scoring='neg_mean_absolute_error')"
      ]
     },
     "execution_count": 245,
     "metadata": {},
     "output_type": "execute_result"
    }
   ],
   "source": [
    "# create and fit GridSearchCV  \n",
    "gs = GridSearchCV(rf, parameters, scoring='neg_mean_absolute_error', cv=3)\n",
    "gs.fit(X_train, y_train)"
   ]
  },
  {
   "cell_type": "code",
   "execution_count": 246,
   "metadata": {},
   "outputs": [
    {
     "data": {
      "text/plain": [
       "RandomForestRegressor(criterion='mae', max_features='sqrt', n_estimators=60)"
      ]
     },
     "execution_count": 246,
     "metadata": {},
     "output_type": "execute_result"
    }
   ],
   "source": [
    "# print best_estimator_ which shows parameters of tuned model \n",
    "gs.best_estimator_"
   ]
  },
  {
   "cell_type": "code",
   "execution_count": 247,
   "metadata": {},
   "outputs": [],
   "source": [
    "# generate prediction\n",
    "pred_gs = gs.predict(X_test)"
   ]
  },
  {
   "cell_type": "code",
   "execution_count": 248,
   "metadata": {},
   "outputs": [
    {
     "name": "stdout",
     "output_type": "stream",
     "text": [
      "mae_gs= 14340.115999999996\n"
     ]
    }
   ],
   "source": [
    "# test error on prediction against y_test\n",
    "print('mae_gs=', mean_absolute_error(y_test, pred_rf))"
   ]
  }
 ],
 "metadata": {
  "kernelspec": {
   "display_name": "geopanda2",
   "language": "python",
   "name": "geopanda2"
  },
  "language_info": {
   "codemirror_mode": {
    "name": "ipython",
    "version": 3
   },
   "file_extension": ".py",
   "mimetype": "text/x-python",
   "name": "python",
   "nbconvert_exporter": "python",
   "pygments_lexer": "ipython3",
   "version": "3.7.8"
  }
 },
 "nbformat": 4,
 "nbformat_minor": 2
}
