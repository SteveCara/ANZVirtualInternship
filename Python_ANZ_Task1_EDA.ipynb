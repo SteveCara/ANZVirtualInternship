{
 "cells": [
  {
   "cell_type": "code",
   "execution_count": null,
   "metadata": {},
   "outputs": [],
   "source": [
    "import pandas as pd\n",
    "import numpy as np\n",
    "import matplotlib.pyplot as plt\n",
    "import seaborn as sns\n",
    "import geopandas\n",
    "import calendar\n",
    "from scipy import stats\n",
    "import sys\n",
    "import folium"
   ]
  },
  {
   "cell_type": "code",
   "execution_count": 217,
   "metadata": {},
   "outputs": [],
   "source": [
    "# load the data\n",
    "data = pd.read_csv('anzdata.csv')"
   ]
  },
  {
   "cell_type": "code",
   "execution_count": 218,
   "metadata": {},
   "outputs": [],
   "source": [
    "# create dataframe for analysis\n",
    "df = data"
   ]
  },
  {
   "cell_type": "code",
   "execution_count": 219,
   "metadata": {},
   "outputs": [
    {
     "data": {
      "text/html": [
       "<div>\n",
       "<style scoped>\n",
       "    .dataframe tbody tr th:only-of-type {\n",
       "        vertical-align: middle;\n",
       "    }\n",
       "\n",
       "    .dataframe tbody tr th {\n",
       "        vertical-align: top;\n",
       "    }\n",
       "\n",
       "    .dataframe thead th {\n",
       "        text-align: right;\n",
       "    }\n",
       "</style>\n",
       "<table border=\"1\" class=\"dataframe\">\n",
       "  <thead>\n",
       "    <tr style=\"text-align: right;\">\n",
       "      <th></th>\n",
       "      <th>status</th>\n",
       "      <th>card_present_flag</th>\n",
       "      <th>bpay_biller_code</th>\n",
       "      <th>account</th>\n",
       "      <th>currency</th>\n",
       "      <th>long_lat</th>\n",
       "      <th>txn_description</th>\n",
       "      <th>merchant_id</th>\n",
       "      <th>merchant_code</th>\n",
       "      <th>first_name</th>\n",
       "      <th>...</th>\n",
       "      <th>age</th>\n",
       "      <th>merchant_suburb</th>\n",
       "      <th>merchant_state</th>\n",
       "      <th>extraction</th>\n",
       "      <th>amount</th>\n",
       "      <th>transaction_id</th>\n",
       "      <th>country</th>\n",
       "      <th>customer_id</th>\n",
       "      <th>merchant_long_lat</th>\n",
       "      <th>movement</th>\n",
       "    </tr>\n",
       "  </thead>\n",
       "  <tbody>\n",
       "    <tr>\n",
       "      <th>0</th>\n",
       "      <td>authorized</td>\n",
       "      <td>1.0</td>\n",
       "      <td>NaN</td>\n",
       "      <td>ACC-1598451071</td>\n",
       "      <td>AUD</td>\n",
       "      <td>153.41 -27.95</td>\n",
       "      <td>POS</td>\n",
       "      <td>81c48296-73be-44a7-befa-d053f48ce7cd</td>\n",
       "      <td>NaN</td>\n",
       "      <td>Diana</td>\n",
       "      <td>...</td>\n",
       "      <td>26</td>\n",
       "      <td>Ashmore</td>\n",
       "      <td>QLD</td>\n",
       "      <td>2018-08-01T01:01:15.000+0000</td>\n",
       "      <td>16.25</td>\n",
       "      <td>a623070bfead4541a6b0fff8a09e706c</td>\n",
       "      <td>Australia</td>\n",
       "      <td>CUS-2487424745</td>\n",
       "      <td>153.38 -27.99</td>\n",
       "      <td>debit</td>\n",
       "    </tr>\n",
       "    <tr>\n",
       "      <th>1</th>\n",
       "      <td>authorized</td>\n",
       "      <td>0.0</td>\n",
       "      <td>NaN</td>\n",
       "      <td>ACC-1598451071</td>\n",
       "      <td>AUD</td>\n",
       "      <td>153.41 -27.95</td>\n",
       "      <td>SALES-POS</td>\n",
       "      <td>830a451c-316e-4a6a-bf25-e37caedca49e</td>\n",
       "      <td>NaN</td>\n",
       "      <td>Diana</td>\n",
       "      <td>...</td>\n",
       "      <td>26</td>\n",
       "      <td>Sydney</td>\n",
       "      <td>NSW</td>\n",
       "      <td>2018-08-01T01:13:45.000+0000</td>\n",
       "      <td>14.19</td>\n",
       "      <td>13270a2a902145da9db4c951e04b51b9</td>\n",
       "      <td>Australia</td>\n",
       "      <td>CUS-2487424745</td>\n",
       "      <td>151.21 -33.87</td>\n",
       "      <td>debit</td>\n",
       "    </tr>\n",
       "    <tr>\n",
       "      <th>2</th>\n",
       "      <td>authorized</td>\n",
       "      <td>1.0</td>\n",
       "      <td>NaN</td>\n",
       "      <td>ACC-1222300524</td>\n",
       "      <td>AUD</td>\n",
       "      <td>151.23 -33.94</td>\n",
       "      <td>POS</td>\n",
       "      <td>835c231d-8cdf-4e96-859d-e9d571760cf0</td>\n",
       "      <td>NaN</td>\n",
       "      <td>Michael</td>\n",
       "      <td>...</td>\n",
       "      <td>38</td>\n",
       "      <td>Sydney</td>\n",
       "      <td>NSW</td>\n",
       "      <td>2018-08-01T01:26:15.000+0000</td>\n",
       "      <td>6.42</td>\n",
       "      <td>feb79e7ecd7048a5a36ec889d1a94270</td>\n",
       "      <td>Australia</td>\n",
       "      <td>CUS-2142601169</td>\n",
       "      <td>151.21 -33.87</td>\n",
       "      <td>debit</td>\n",
       "    </tr>\n",
       "    <tr>\n",
       "      <th>3</th>\n",
       "      <td>authorized</td>\n",
       "      <td>1.0</td>\n",
       "      <td>NaN</td>\n",
       "      <td>ACC-1037050564</td>\n",
       "      <td>AUD</td>\n",
       "      <td>153.10 -27.66</td>\n",
       "      <td>SALES-POS</td>\n",
       "      <td>48514682-c78a-4a88-b0da-2d6302e64673</td>\n",
       "      <td>NaN</td>\n",
       "      <td>Rhonda</td>\n",
       "      <td>...</td>\n",
       "      <td>40</td>\n",
       "      <td>Buderim</td>\n",
       "      <td>QLD</td>\n",
       "      <td>2018-08-01T01:38:45.000+0000</td>\n",
       "      <td>40.90</td>\n",
       "      <td>2698170da3704fd981b15e64a006079e</td>\n",
       "      <td>Australia</td>\n",
       "      <td>CUS-1614226872</td>\n",
       "      <td>153.05 -26.68</td>\n",
       "      <td>debit</td>\n",
       "    </tr>\n",
       "    <tr>\n",
       "      <th>4</th>\n",
       "      <td>authorized</td>\n",
       "      <td>1.0</td>\n",
       "      <td>NaN</td>\n",
       "      <td>ACC-1598451071</td>\n",
       "      <td>AUD</td>\n",
       "      <td>153.41 -27.95</td>\n",
       "      <td>SALES-POS</td>\n",
       "      <td>b4e02c10-0852-4273-b8fd-7b3395e32eb0</td>\n",
       "      <td>NaN</td>\n",
       "      <td>Diana</td>\n",
       "      <td>...</td>\n",
       "      <td>26</td>\n",
       "      <td>Mermaid Beach</td>\n",
       "      <td>QLD</td>\n",
       "      <td>2018-08-01T01:51:15.000+0000</td>\n",
       "      <td>3.25</td>\n",
       "      <td>329adf79878c4cf0aeb4188b4691c266</td>\n",
       "      <td>Australia</td>\n",
       "      <td>CUS-2487424745</td>\n",
       "      <td>153.44 -28.06</td>\n",
       "      <td>debit</td>\n",
       "    </tr>\n",
       "  </tbody>\n",
       "</table>\n",
       "<p>5 rows × 23 columns</p>\n",
       "</div>"
      ],
      "text/plain": [
       "       status  card_present_flag bpay_biller_code         account currency  \\\n",
       "0  authorized                1.0              NaN  ACC-1598451071      AUD   \n",
       "1  authorized                0.0              NaN  ACC-1598451071      AUD   \n",
       "2  authorized                1.0              NaN  ACC-1222300524      AUD   \n",
       "3  authorized                1.0              NaN  ACC-1037050564      AUD   \n",
       "4  authorized                1.0              NaN  ACC-1598451071      AUD   \n",
       "\n",
       "        long_lat txn_description                           merchant_id  \\\n",
       "0  153.41 -27.95             POS  81c48296-73be-44a7-befa-d053f48ce7cd   \n",
       "1  153.41 -27.95       SALES-POS  830a451c-316e-4a6a-bf25-e37caedca49e   \n",
       "2  151.23 -33.94             POS  835c231d-8cdf-4e96-859d-e9d571760cf0   \n",
       "3  153.10 -27.66       SALES-POS  48514682-c78a-4a88-b0da-2d6302e64673   \n",
       "4  153.41 -27.95       SALES-POS  b4e02c10-0852-4273-b8fd-7b3395e32eb0   \n",
       "\n",
       "   merchant_code first_name  ...  age merchant_suburb merchant_state  \\\n",
       "0            NaN      Diana  ...   26         Ashmore            QLD   \n",
       "1            NaN      Diana  ...   26          Sydney            NSW   \n",
       "2            NaN    Michael  ...   38          Sydney            NSW   \n",
       "3            NaN     Rhonda  ...   40         Buderim            QLD   \n",
       "4            NaN      Diana  ...   26   Mermaid Beach            QLD   \n",
       "\n",
       "                     extraction amount                    transaction_id  \\\n",
       "0  2018-08-01T01:01:15.000+0000  16.25  a623070bfead4541a6b0fff8a09e706c   \n",
       "1  2018-08-01T01:13:45.000+0000  14.19  13270a2a902145da9db4c951e04b51b9   \n",
       "2  2018-08-01T01:26:15.000+0000   6.42  feb79e7ecd7048a5a36ec889d1a94270   \n",
       "3  2018-08-01T01:38:45.000+0000  40.90  2698170da3704fd981b15e64a006079e   \n",
       "4  2018-08-01T01:51:15.000+0000   3.25  329adf79878c4cf0aeb4188b4691c266   \n",
       "\n",
       "     country     customer_id merchant_long_lat movement  \n",
       "0  Australia  CUS-2487424745     153.38 -27.99    debit  \n",
       "1  Australia  CUS-2487424745     151.21 -33.87    debit  \n",
       "2  Australia  CUS-2142601169     151.21 -33.87    debit  \n",
       "3  Australia  CUS-1614226872     153.05 -26.68    debit  \n",
       "4  Australia  CUS-2487424745     153.44 -28.06    debit  \n",
       "\n",
       "[5 rows x 23 columns]"
      ]
     },
     "execution_count": 219,
     "metadata": {},
     "output_type": "execute_result"
    }
   ],
   "source": [
    "# inspect the data\n",
    "df.head()"
   ]
  },
  {
   "cell_type": "code",
   "execution_count": 220,
   "metadata": {},
   "outputs": [
    {
     "data": {
      "text/html": [
       "<div>\n",
       "<style scoped>\n",
       "    .dataframe tbody tr th:only-of-type {\n",
       "        vertical-align: middle;\n",
       "    }\n",
       "\n",
       "    .dataframe tbody tr th {\n",
       "        vertical-align: top;\n",
       "    }\n",
       "\n",
       "    .dataframe thead th {\n",
       "        text-align: right;\n",
       "    }\n",
       "</style>\n",
       "<table border=\"1\" class=\"dataframe\">\n",
       "  <thead>\n",
       "    <tr style=\"text-align: right;\">\n",
       "      <th></th>\n",
       "      <th>card_present_flag</th>\n",
       "      <th>merchant_code</th>\n",
       "      <th>balance</th>\n",
       "      <th>age</th>\n",
       "      <th>amount</th>\n",
       "    </tr>\n",
       "  </thead>\n",
       "  <tbody>\n",
       "    <tr>\n",
       "      <th>count</th>\n",
       "      <td>7717.000000</td>\n",
       "      <td>883.0</td>\n",
       "      <td>12043.000000</td>\n",
       "      <td>12043.000000</td>\n",
       "      <td>12043.000000</td>\n",
       "    </tr>\n",
       "    <tr>\n",
       "      <th>mean</th>\n",
       "      <td>0.802644</td>\n",
       "      <td>0.0</td>\n",
       "      <td>14704.195553</td>\n",
       "      <td>30.582330</td>\n",
       "      <td>187.933588</td>\n",
       "    </tr>\n",
       "    <tr>\n",
       "      <th>std</th>\n",
       "      <td>0.398029</td>\n",
       "      <td>0.0</td>\n",
       "      <td>31503.722652</td>\n",
       "      <td>10.046343</td>\n",
       "      <td>592.599934</td>\n",
       "    </tr>\n",
       "    <tr>\n",
       "      <th>min</th>\n",
       "      <td>0.000000</td>\n",
       "      <td>0.0</td>\n",
       "      <td>0.240000</td>\n",
       "      <td>18.000000</td>\n",
       "      <td>0.100000</td>\n",
       "    </tr>\n",
       "    <tr>\n",
       "      <th>25%</th>\n",
       "      <td>1.000000</td>\n",
       "      <td>0.0</td>\n",
       "      <td>3158.585000</td>\n",
       "      <td>22.000000</td>\n",
       "      <td>16.000000</td>\n",
       "    </tr>\n",
       "    <tr>\n",
       "      <th>50%</th>\n",
       "      <td>1.000000</td>\n",
       "      <td>0.0</td>\n",
       "      <td>6432.010000</td>\n",
       "      <td>28.000000</td>\n",
       "      <td>29.000000</td>\n",
       "    </tr>\n",
       "    <tr>\n",
       "      <th>75%</th>\n",
       "      <td>1.000000</td>\n",
       "      <td>0.0</td>\n",
       "      <td>12465.945000</td>\n",
       "      <td>38.000000</td>\n",
       "      <td>53.655000</td>\n",
       "    </tr>\n",
       "    <tr>\n",
       "      <th>max</th>\n",
       "      <td>1.000000</td>\n",
       "      <td>0.0</td>\n",
       "      <td>267128.520000</td>\n",
       "      <td>78.000000</td>\n",
       "      <td>8835.980000</td>\n",
       "    </tr>\n",
       "  </tbody>\n",
       "</table>\n",
       "</div>"
      ],
      "text/plain": [
       "       card_present_flag  merchant_code        balance           age  \\\n",
       "count        7717.000000          883.0   12043.000000  12043.000000   \n",
       "mean            0.802644            0.0   14704.195553     30.582330   \n",
       "std             0.398029            0.0   31503.722652     10.046343   \n",
       "min             0.000000            0.0       0.240000     18.000000   \n",
       "25%             1.000000            0.0    3158.585000     22.000000   \n",
       "50%             1.000000            0.0    6432.010000     28.000000   \n",
       "75%             1.000000            0.0   12465.945000     38.000000   \n",
       "max             1.000000            0.0  267128.520000     78.000000   \n",
       "\n",
       "             amount  \n",
       "count  12043.000000  \n",
       "mean     187.933588  \n",
       "std      592.599934  \n",
       "min        0.100000  \n",
       "25%       16.000000  \n",
       "50%       29.000000  \n",
       "75%       53.655000  \n",
       "max     8835.980000  "
      ]
     },
     "execution_count": 220,
     "metadata": {},
     "output_type": "execute_result"
    }
   ],
   "source": [
    "# summarise the data\n",
    "df.describe()"
   ]
  },
  {
   "cell_type": "code",
   "execution_count": 221,
   "metadata": {},
   "outputs": [
    {
     "data": {
      "text/html": [
       "<div>\n",
       "<style scoped>\n",
       "    .dataframe tbody tr th:only-of-type {\n",
       "        vertical-align: middle;\n",
       "    }\n",
       "\n",
       "    .dataframe tbody tr th {\n",
       "        vertical-align: top;\n",
       "    }\n",
       "\n",
       "    .dataframe thead th {\n",
       "        text-align: right;\n",
       "    }\n",
       "</style>\n",
       "<table border=\"1\" class=\"dataframe\">\n",
       "  <thead>\n",
       "    <tr style=\"text-align: right;\">\n",
       "      <th></th>\n",
       "      <th>feature</th>\n",
       "      <th>missing%</th>\n",
       "    </tr>\n",
       "  </thead>\n",
       "  <tbody>\n",
       "    <tr>\n",
       "      <th>8</th>\n",
       "      <td>merchant_code</td>\n",
       "      <td>92.67</td>\n",
       "    </tr>\n",
       "    <tr>\n",
       "      <th>2</th>\n",
       "      <td>bpay_biller_code</td>\n",
       "      <td>92.65</td>\n",
       "    </tr>\n",
       "    <tr>\n",
       "      <th>14</th>\n",
       "      <td>merchant_suburb</td>\n",
       "      <td>35.92</td>\n",
       "    </tr>\n",
       "    <tr>\n",
       "      <th>21</th>\n",
       "      <td>merchant_long_lat</td>\n",
       "      <td>35.92</td>\n",
       "    </tr>\n",
       "    <tr>\n",
       "      <th>7</th>\n",
       "      <td>merchant_id</td>\n",
       "      <td>35.92</td>\n",
       "    </tr>\n",
       "    <tr>\n",
       "      <th>1</th>\n",
       "      <td>card_present_flag</td>\n",
       "      <td>35.92</td>\n",
       "    </tr>\n",
       "    <tr>\n",
       "      <th>15</th>\n",
       "      <td>merchant_state</td>\n",
       "      <td>35.92</td>\n",
       "    </tr>\n",
       "    <tr>\n",
       "      <th>0</th>\n",
       "      <td>status</td>\n",
       "      <td>0.00</td>\n",
       "    </tr>\n",
       "    <tr>\n",
       "      <th>20</th>\n",
       "      <td>customer_id</td>\n",
       "      <td>0.00</td>\n",
       "    </tr>\n",
       "    <tr>\n",
       "      <th>19</th>\n",
       "      <td>country</td>\n",
       "      <td>0.00</td>\n",
       "    </tr>\n",
       "    <tr>\n",
       "      <th>18</th>\n",
       "      <td>transaction_id</td>\n",
       "      <td>0.00</td>\n",
       "    </tr>\n",
       "    <tr>\n",
       "      <th>17</th>\n",
       "      <td>amount</td>\n",
       "      <td>0.00</td>\n",
       "    </tr>\n",
       "    <tr>\n",
       "      <th>16</th>\n",
       "      <td>extraction</td>\n",
       "      <td>0.00</td>\n",
       "    </tr>\n",
       "    <tr>\n",
       "      <th>11</th>\n",
       "      <td>date</td>\n",
       "      <td>0.00</td>\n",
       "    </tr>\n",
       "    <tr>\n",
       "      <th>13</th>\n",
       "      <td>age</td>\n",
       "      <td>0.00</td>\n",
       "    </tr>\n",
       "    <tr>\n",
       "      <th>12</th>\n",
       "      <td>gender</td>\n",
       "      <td>0.00</td>\n",
       "    </tr>\n",
       "    <tr>\n",
       "      <th>10</th>\n",
       "      <td>balance</td>\n",
       "      <td>0.00</td>\n",
       "    </tr>\n",
       "    <tr>\n",
       "      <th>9</th>\n",
       "      <td>first_name</td>\n",
       "      <td>0.00</td>\n",
       "    </tr>\n",
       "    <tr>\n",
       "      <th>6</th>\n",
       "      <td>txn_description</td>\n",
       "      <td>0.00</td>\n",
       "    </tr>\n",
       "    <tr>\n",
       "      <th>5</th>\n",
       "      <td>long_lat</td>\n",
       "      <td>0.00</td>\n",
       "    </tr>\n",
       "    <tr>\n",
       "      <th>4</th>\n",
       "      <td>currency</td>\n",
       "      <td>0.00</td>\n",
       "    </tr>\n",
       "    <tr>\n",
       "      <th>3</th>\n",
       "      <td>account</td>\n",
       "      <td>0.00</td>\n",
       "    </tr>\n",
       "    <tr>\n",
       "      <th>22</th>\n",
       "      <td>movement</td>\n",
       "      <td>0.00</td>\n",
       "    </tr>\n",
       "  </tbody>\n",
       "</table>\n",
       "</div>"
      ],
      "text/plain": [
       "              feature  missing%\n",
       "8       merchant_code     92.67\n",
       "2    bpay_biller_code     92.65\n",
       "14    merchant_suburb     35.92\n",
       "21  merchant_long_lat     35.92\n",
       "7         merchant_id     35.92\n",
       "1   card_present_flag     35.92\n",
       "15     merchant_state     35.92\n",
       "0              status      0.00\n",
       "20        customer_id      0.00\n",
       "19            country      0.00\n",
       "18     transaction_id      0.00\n",
       "17             amount      0.00\n",
       "16         extraction      0.00\n",
       "11               date      0.00\n",
       "13                age      0.00\n",
       "12             gender      0.00\n",
       "10            balance      0.00\n",
       "9          first_name      0.00\n",
       "6     txn_description      0.00\n",
       "5            long_lat      0.00\n",
       "4            currency      0.00\n",
       "3             account      0.00\n",
       "22           movement      0.00"
      ]
     },
     "execution_count": 221,
     "metadata": {},
     "output_type": "execute_result"
    }
   ],
   "source": [
    "# data above shows that balance, age, amount have 12043 values\n",
    "# this suggests there are missing or null values in card_present_flag and merchant_code\n",
    "# find % of data with missing values\n",
    "miss_perc = (df.isnull().sum() / len(df)*100).round(2)\n",
    "miss_perc = pd.DataFrame(miss_perc, columns = ['missing%']).reset_index().sort_values(by=['missing%'], ascending = False)\n",
    "miss_perc.columns = ['feature', 'missing%']\n",
    "miss_perc"
   ]
  },
  {
   "cell_type": "code",
   "execution_count": 222,
   "metadata": {},
   "outputs": [
    {
     "data": {
      "text/plain": [
       "<AxesSubplot:xlabel='feature', ylabel='missing%'>"
      ]
     },
     "execution_count": 222,
     "metadata": {},
     "output_type": "execute_result"
    },
    {
     "data": {
      "image/png": "[encoded data removed]",
      "text/plain": [
       "<Figure size 1440x360 with 1 Axes>"
      ]
     },
     "metadata": {
      "needs_background": "light"
     },
     "output_type": "display_data"
    }
   ],
   "source": [
    "# plot the missing data percent\n",
    "plt.figure(figsize=(20,5))\n",
    "sns.barplot(x='feature', y='missing%', data=miss_perc.head(10), palette = 'Blues')"
   ]
  },
  {
   "cell_type": "code",
   "execution_count": 223,
   "metadata": {},
   "outputs": [],
   "source": [
    "# clean the data\n",
    "# drop columns with > 40% missing values as these won't be much use to the model\n",
    "df = df.drop(['merchant_code', 'bpay_biller_code'], axis=1)"
   ]
  },
  {
   "cell_type": "code",
   "execution_count": 224,
   "metadata": {},
   "outputs": [
    {
     "data": {
      "text/plain": [
       "Index(['status', 'card_present_flag', 'account', 'currency', 'long_lat',\n",
       "       'txn_description', 'merchant_id', 'first_name', 'balance', 'date',\n",
       "       'gender', 'age', 'merchant_suburb', 'merchant_state', 'extraction',\n",
       "       'amount', 'transaction_id', 'country', 'customer_id',\n",
       "       'merchant_long_lat', 'movement'],\n",
       "      dtype='object')"
      ]
     },
     "execution_count": 224,
     "metadata": {},
     "output_type": "execute_result"
    }
   ],
   "source": [
    "df.columns"
   ]
  },
  {
   "cell_type": "code",
   "execution_count": 225,
   "metadata": {},
   "outputs": [],
   "source": [
    "# fill missing values (except for those dropped)\n",
    "# numerical data to be filled with mean, categorical data to be filled with mode\n",
    "num_cols = ['age','amount', 'balance']\n",
    "cat_cols = ['status', 'card_present_flag', 'account', 'currency', 'long_lat',\n",
    "       'txn_description', 'merchant_id', 'first_name', 'date',\n",
    "       'gender', 'merchant_suburb', 'merchant_state', 'extraction', 'transaction_id', 'country', 'customer_id',\n",
    "       'merchant_long_lat', 'movement']"
   ]
  },
  {
   "cell_type": "code",
   "execution_count": 226,
   "metadata": {},
   "outputs": [],
   "source": [
    "#  fill missing numerical values with mean\n",
    "df[num_cols] = df[num_cols].fillna(df[num_cols].mean())"
   ]
  },
  {
   "cell_type": "code",
   "execution_count": 227,
   "metadata": {},
   "outputs": [],
   "source": [
    "# fill missing categorical values with mode\n",
    "df[cat_cols] = df[cat_cols].transform(lambda x: x.fillna(x.mode()[0]))"
   ]
  },
  {
   "cell_type": "code",
   "execution_count": 228,
   "metadata": {},
   "outputs": [
    {
     "data": {
      "image/png": "[encoded data removed]",
      "text/plain": [
       "<Figure size 432x288 with 1 Axes>"
      ]
     },
     "metadata": {
      "needs_background": "light"
     },
     "output_type": "display_data"
    }
   ],
   "source": [
    "# plot boxplots to find outliers\n",
    "# plot boxplot on age\n",
    "ax = sns.boxplot(df['age'])"
   ]
  },
  {
   "cell_type": "code",
   "execution_count": 229,
   "metadata": {},
   "outputs": [
    {
     "data": {
      "image/png": "[encoded data removed]",
      "text/plain": [
       "<Figure size 432x288 with 1 Axes>"
      ]
     },
     "metadata": {
      "needs_background": "light"
     },
     "output_type": "display_data"
    }
   ],
   "source": [
    "# plot boxplot on balance\n",
    "ax = sns.boxplot(df['balance'])"
   ]
  },
  {
   "cell_type": "code",
   "execution_count": 230,
   "metadata": {},
   "outputs": [
    {
     "data": {
      "image/png": "[encoded data removed]",
      "text/plain": [
       "<Figure size 432x288 with 1 Axes>"
      ]
     },
     "metadata": {
      "needs_background": "light"
     },
     "output_type": "display_data"
    }
   ],
   "source": [
    "# plot boxplot on amount\n",
    "ax = sns.boxplot(df['amount'])"
   ]
  },
  {
   "cell_type": "code",
   "execution_count": 231,
   "metadata": {},
   "outputs": [],
   "source": [
    "# find outliers using z score\n",
    "z = np.abs(stats.zscore(df[num_cols]))"
   ]
  },
  {
   "cell_type": "code",
   "execution_count": 232,
   "metadata": {},
   "outputs": [],
   "source": [
    "# set threshold at which outliers should be excluded\n",
    "threshold = 3"
   ]
  },
  {
   "cell_type": "code",
   "execution_count": 233,
   "metadata": {},
   "outputs": [
    {
     "data": {
      "text/html": [
       "<div>\n",
       "<style scoped>\n",
       "    .dataframe tbody tr th:only-of-type {\n",
       "        vertical-align: middle;\n",
       "    }\n",
       "\n",
       "    .dataframe tbody tr th {\n",
       "        vertical-align: top;\n",
       "    }\n",
       "\n",
       "    .dataframe thead th {\n",
       "        text-align: right;\n",
       "    }\n",
       "</style>\n",
       "<table border=\"1\" class=\"dataframe\">\n",
       "  <thead>\n",
       "    <tr style=\"text-align: right;\">\n",
       "      <th></th>\n",
       "      <th>feature</th>\n",
       "      <th>outlier%</th>\n",
       "    </tr>\n",
       "  </thead>\n",
       "  <tbody>\n",
       "    <tr>\n",
       "      <th>0</th>\n",
       "      <td>age</td>\n",
       "      <td>6.526613</td>\n",
       "    </tr>\n",
       "    <tr>\n",
       "      <th>1</th>\n",
       "      <td>amount</td>\n",
       "      <td>6.526613</td>\n",
       "    </tr>\n",
       "    <tr>\n",
       "      <th>2</th>\n",
       "      <td>balance</td>\n",
       "      <td>6.526613</td>\n",
       "    </tr>\n",
       "  </tbody>\n",
       "</table>\n",
       "</div>"
      ],
      "text/plain": [
       "   feature  outlier%\n",
       "0      age  6.526613\n",
       "1   amount  6.526613\n",
       "2  balance  6.526613"
      ]
     },
     "execution_count": 233,
     "metadata": {},
     "output_type": "execute_result"
    }
   ],
   "source": [
    "# calculate percentage of datapoint which are outliers\n",
    "outlier_perc = (100-(df[num_cols][(z<3).all(axis=1)].count()) / len(df[num_cols])*100).reset_index()\n",
    "outlier_perc.rename(columns={'index':'feature', 0:'outlier%'})"
   ]
  },
  {
   "cell_type": "code",
   "execution_count": 234,
   "metadata": {},
   "outputs": [
    {
     "data": {
      "text/html": [
       "<div>\n",
       "<style scoped>\n",
       "    .dataframe tbody tr th:only-of-type {\n",
       "        vertical-align: middle;\n",
       "    }\n",
       "\n",
       "    .dataframe tbody tr th {\n",
       "        vertical-align: top;\n",
       "    }\n",
       "\n",
       "    .dataframe thead th {\n",
       "        text-align: right;\n",
       "    }\n",
       "</style>\n",
       "<table border=\"1\" class=\"dataframe\">\n",
       "  <thead>\n",
       "    <tr style=\"text-align: right;\">\n",
       "      <th></th>\n",
       "      <th>age</th>\n",
       "      <th>amount</th>\n",
       "      <th>balance</th>\n",
       "    </tr>\n",
       "  </thead>\n",
       "  <tbody>\n",
       "    <tr>\n",
       "      <th>count</th>\n",
       "      <td>12043.000000</td>\n",
       "      <td>12043.000000</td>\n",
       "      <td>12043.000000</td>\n",
       "    </tr>\n",
       "    <tr>\n",
       "      <th>mean</th>\n",
       "      <td>30.582330</td>\n",
       "      <td>187.933588</td>\n",
       "      <td>14704.195553</td>\n",
       "    </tr>\n",
       "    <tr>\n",
       "      <th>std</th>\n",
       "      <td>10.046343</td>\n",
       "      <td>592.599934</td>\n",
       "      <td>31503.722652</td>\n",
       "    </tr>\n",
       "    <tr>\n",
       "      <th>min</th>\n",
       "      <td>18.000000</td>\n",
       "      <td>0.100000</td>\n",
       "      <td>0.240000</td>\n",
       "    </tr>\n",
       "    <tr>\n",
       "      <th>25%</th>\n",
       "      <td>22.000000</td>\n",
       "      <td>16.000000</td>\n",
       "      <td>3158.585000</td>\n",
       "    </tr>\n",
       "    <tr>\n",
       "      <th>50%</th>\n",
       "      <td>28.000000</td>\n",
       "      <td>29.000000</td>\n",
       "      <td>6432.010000</td>\n",
       "    </tr>\n",
       "    <tr>\n",
       "      <th>75%</th>\n",
       "      <td>38.000000</td>\n",
       "      <td>53.655000</td>\n",
       "      <td>12465.945000</td>\n",
       "    </tr>\n",
       "    <tr>\n",
       "      <th>max</th>\n",
       "      <td>78.000000</td>\n",
       "      <td>8835.980000</td>\n",
       "      <td>267128.520000</td>\n",
       "    </tr>\n",
       "  </tbody>\n",
       "</table>\n",
       "</div>"
      ],
      "text/plain": [
       "                age        amount        balance\n",
       "count  12043.000000  12043.000000   12043.000000\n",
       "mean      30.582330    187.933588   14704.195553\n",
       "std       10.046343    592.599934   31503.722652\n",
       "min       18.000000      0.100000       0.240000\n",
       "25%       22.000000     16.000000    3158.585000\n",
       "50%       28.000000     29.000000    6432.010000\n",
       "75%       38.000000     53.655000   12465.945000\n",
       "max       78.000000   8835.980000  267128.520000"
      ]
     },
     "execution_count": 234,
     "metadata": {},
     "output_type": "execute_result"
    }
   ],
   "source": [
    "# describe data before correcting outliers\n",
    "df[num_cols].describe()"
   ]
  },
  {
   "cell_type": "code",
   "execution_count": 235,
   "metadata": {},
   "outputs": [
    {
     "data": {
      "text/html": [
       "<div>\n",
       "<style scoped>\n",
       "    .dataframe tbody tr th:only-of-type {\n",
       "        vertical-align: middle;\n",
       "    }\n",
       "\n",
       "    .dataframe tbody tr th {\n",
       "        vertical-align: top;\n",
       "    }\n",
       "\n",
       "    .dataframe thead th {\n",
       "        text-align: right;\n",
       "    }\n",
       "</style>\n",
       "<table border=\"1\" class=\"dataframe\">\n",
       "  <thead>\n",
       "    <tr style=\"text-align: right;\">\n",
       "      <th></th>\n",
       "      <th>age</th>\n",
       "      <th>amount</th>\n",
       "      <th>balance</th>\n",
       "    </tr>\n",
       "  </thead>\n",
       "  <tbody>\n",
       "    <tr>\n",
       "      <th>count</th>\n",
       "      <td>12043.000000</td>\n",
       "      <td>12043.000000</td>\n",
       "      <td>12043.000000</td>\n",
       "    </tr>\n",
       "    <tr>\n",
       "      <th>mean</th>\n",
       "      <td>29.830856</td>\n",
       "      <td>103.662676</td>\n",
       "      <td>10539.170394</td>\n",
       "    </tr>\n",
       "    <tr>\n",
       "      <th>std</th>\n",
       "      <td>8.571904</td>\n",
       "      <td>281.779685</td>\n",
       "      <td>13306.808840</td>\n",
       "    </tr>\n",
       "    <tr>\n",
       "      <th>min</th>\n",
       "      <td>18.000000</td>\n",
       "      <td>0.100000</td>\n",
       "      <td>0.240000</td>\n",
       "    </tr>\n",
       "    <tr>\n",
       "      <th>25%</th>\n",
       "      <td>22.000000</td>\n",
       "      <td>16.000000</td>\n",
       "      <td>3158.585000</td>\n",
       "    </tr>\n",
       "    <tr>\n",
       "      <th>50%</th>\n",
       "      <td>28.000000</td>\n",
       "      <td>29.000000</td>\n",
       "      <td>6432.010000</td>\n",
       "    </tr>\n",
       "    <tr>\n",
       "      <th>75%</th>\n",
       "      <td>38.000000</td>\n",
       "      <td>48.880000</td>\n",
       "      <td>11525.535000</td>\n",
       "    </tr>\n",
       "    <tr>\n",
       "      <th>max</th>\n",
       "      <td>53.000000</td>\n",
       "      <td>1965.000000</td>\n",
       "      <td>108791.320000</td>\n",
       "    </tr>\n",
       "  </tbody>\n",
       "</table>\n",
       "</div>"
      ],
      "text/plain": [
       "                age        amount        balance\n",
       "count  12043.000000  12043.000000   12043.000000\n",
       "mean      29.830856    103.662676   10539.170394\n",
       "std        8.571904    281.779685   13306.808840\n",
       "min       18.000000      0.100000       0.240000\n",
       "25%       22.000000     16.000000    3158.585000\n",
       "50%       28.000000     29.000000    6432.010000\n",
       "75%       38.000000     48.880000   11525.535000\n",
       "max       53.000000   1965.000000  108791.320000"
      ]
     },
     "execution_count": 235,
     "metadata": {},
     "output_type": "execute_result"
    }
   ],
   "source": [
    "# replace outliers with median value\n",
    "median = df[num_cols].median()\n",
    "df[num_cols] = np.where(z>threshold, median, df[num_cols])\n",
    "\n",
    "# describe data after correcting outliers\n",
    "df[num_cols].describe()"
   ]
  },
  {
   "cell_type": "code",
   "execution_count": 236,
   "metadata": {},
   "outputs": [
    {
     "data": {
      "text/plain": [
       "103.66267624346094"
      ]
     },
     "execution_count": 236,
     "metadata": {},
     "output_type": "execute_result"
    }
   ],
   "source": [
    "# find insights\n",
    "# 1. average transaction amount\n",
    "av_t = df['amount'].mean()\n",
    "av_t"
   ]
  },
  {
   "cell_type": "code",
   "execution_count": 255,
   "metadata": {},
   "outputs": [
    {
     "data": {
      "text/plain": [
       "4014.3333333333335"
      ]
     },
     "execution_count": 255,
     "metadata": {},
     "output_type": "execute_result"
    }
   ],
   "source": [
    "# find insights\n",
    "# 2. transactions made by customers each month, on average\n",
    "# add month_year field\n",
    "df['month_year'] = df['date'].str[3:]\n",
    "\n",
    "# groupby and count transactions made by customers\n",
    "df_tra = df.groupby('month_year')['transaction_id'].count().reset_index()\n",
    "df_tra.columns = ['month_year', 'num_transactions']\n",
    "\n",
    "# calculate mean num transactions made each month\n",
    "df_tra['num_transactions'].mean()"
   ]
  },
  {
   "cell_type": "code",
   "execution_count": 238,
   "metadata": {},
   "outputs": [],
   "source": [
    "# segment transaction by date and time\n",
    "# date columns already exists\n",
    "# extract time from extraction columns and add as new column\n",
    "df['time'] = df['extraction'].str[11:19]"
   ]
  },
  {
   "cell_type": "code",
   "execution_count": 239,
   "metadata": {},
   "outputs": [],
   "source": [
    "# create another column timestamp which has time and date\n",
    "df['timestamp'] = df['extraction'].str[:10] +' ' + df['time']"
   ]
  },
  {
   "cell_type": "code",
   "execution_count": 240,
   "metadata": {},
   "outputs": [],
   "source": [
    "# set timestamp to datetime format to enable timeseries analysis\n",
    "df['timestamp'] = pd.to_datetime(df['timestamp'])"
   ]
  },
  {
   "cell_type": "code",
   "execution_count": 241,
   "metadata": {},
   "outputs": [],
   "source": [
    "# generate daily data (sum data by hour)\n",
    "df_dly = df.set_index('timestamp').resample('D').sum().reset_index()"
   ]
  },
  {
   "cell_type": "code",
   "execution_count": 262,
   "metadata": {},
   "outputs": [
    {
     "data": {
      "text/plain": [
       "<AxesSubplot:title={'center':'Daily Sum of Transaction Amount - Full Observation Period'}, xlabel='timestamp', ylabel='amount'>"
      ]
     },
     "execution_count": 262,
     "metadata": {},
     "output_type": "execute_result"
    },
    {
     "data": {
      "image/png": "[encoded data removed]",
      "text/plain": [
       "<Figure size 720x360 with 1 Axes>"
      ]
     },
     "metadata": {
      "needs_background": "light"
     },
     "output_type": "display_data"
    }
   ],
   "source": [
    "#  plot daily data \n",
    "plt.figure(figsize=(10,5))\n",
    "plt.xticks(rotation = 90)\n",
    "plt.title('Daily Sum of Transaction Amount - Full Observation Period')\n",
    "sns.lineplot(x = 'timestamp', y='amount', data=df_dly, color='aquamarine')"
   ]
  },
  {
   "cell_type": "code",
   "execution_count": 243,
   "metadata": {},
   "outputs": [],
   "source": [
    "# select daily data for 1 month\n",
    "start_day = '2018-09-01'\n",
    "end_day = '2018-09-30'\n",
    "mo_df = df_dly[(df_dly['timestamp'] >= start_day) & (df_dly['timestamp'] <= end_day)]"
   ]
  },
  {
   "cell_type": "code",
   "execution_count": 261,
   "metadata": {},
   "outputs": [
    {
     "data": {
      "text/plain": [
       "<AxesSubplot:title={'center':'Daily Sum of Transaction Amount - September'}, xlabel='timestamp', ylabel='amount'>"
      ]
     },
     "execution_count": 261,
     "metadata": {},
     "output_type": "execute_result"
    },
    {
     "data": {
      "image/png": "[encoded data removed]",
      "text/plain": [
       "<Figure size 720x360 with 1 Axes>"
      ]
     },
     "metadata": {
      "needs_background": "light"
     },
     "output_type": "display_data"
    }
   ],
   "source": [
    "# plot daily data over 1 month\n",
    "plt.figure(figsize=(10,5))\n",
    "plt.xticks(rotation = 90)\n",
    "plt.title('Daily Sum of Transaction Amount - September')\n",
    "sns.lineplot(x = 'timestamp', y='amount', data=mo_df, color='aquamarine')"
   ]
  },
  {
   "cell_type": "code",
   "execution_count": 245,
   "metadata": {},
   "outputs": [],
   "source": [
    "# reset timestamp\n",
    "# create another column timestamp which has time and date\n",
    "df['timestamp'] = df['extraction'].str[:10] +' ' + df['time']\n",
    "\n",
    "# set as datetime format\n",
    "df['timestamp'] = pd.to_datetime(df['timestamp'])"
   ]
  },
  {
   "cell_type": "code",
   "execution_count": 246,
   "metadata": {},
   "outputs": [
    {
     "data": {
      "text/html": [
       "<div>\n",
       "<style scoped>\n",
       "    .dataframe tbody tr th:only-of-type {\n",
       "        vertical-align: middle;\n",
       "    }\n",
       "\n",
       "    .dataframe tbody tr th {\n",
       "        vertical-align: top;\n",
       "    }\n",
       "\n",
       "    .dataframe thead th {\n",
       "        text-align: right;\n",
       "    }\n",
       "</style>\n",
       "<table border=\"1\" class=\"dataframe\">\n",
       "  <thead>\n",
       "    <tr style=\"text-align: right;\">\n",
       "      <th></th>\n",
       "      <th>datetime</th>\n",
       "      <th>card_present_flag</th>\n",
       "      <th>balance</th>\n",
       "      <th>age</th>\n",
       "      <th>amount</th>\n",
       "    </tr>\n",
       "  </thead>\n",
       "  <tbody>\n",
       "    <tr>\n",
       "      <th>0</th>\n",
       "      <td>2018-08-01 01:00:00</td>\n",
       "      <td>4.0</td>\n",
       "      <td>2197.47</td>\n",
       "      <td>156.0</td>\n",
       "      <td>81.01</td>\n",
       "    </tr>\n",
       "    <tr>\n",
       "      <th>1</th>\n",
       "      <td>2018-08-01 02:00:00</td>\n",
       "      <td>2.0</td>\n",
       "      <td>2953.79</td>\n",
       "      <td>63.0</td>\n",
       "      <td>224.06</td>\n",
       "    </tr>\n",
       "    <tr>\n",
       "      <th>2</th>\n",
       "      <td>2018-08-01 03:00:00</td>\n",
       "      <td>0.0</td>\n",
       "      <td>0.00</td>\n",
       "      <td>0.0</td>\n",
       "      <td>0.00</td>\n",
       "    </tr>\n",
       "    <tr>\n",
       "      <th>3</th>\n",
       "      <td>2018-08-01 04:00:00</td>\n",
       "      <td>2.0</td>\n",
       "      <td>1445.91</td>\n",
       "      <td>70.0</td>\n",
       "      <td>34.86</td>\n",
       "    </tr>\n",
       "    <tr>\n",
       "      <th>4</th>\n",
       "      <td>2018-08-01 05:00:00</td>\n",
       "      <td>0.0</td>\n",
       "      <td>0.00</td>\n",
       "      <td>0.0</td>\n",
       "      <td>0.00</td>\n",
       "    </tr>\n",
       "  </tbody>\n",
       "</table>\n",
       "</div>"
      ],
      "text/plain": [
       "             datetime  card_present_flag  balance    age  amount\n",
       "0 2018-08-01 01:00:00                4.0  2197.47  156.0   81.01\n",
       "1 2018-08-01 02:00:00                2.0  2953.79   63.0  224.06\n",
       "2 2018-08-01 03:00:00                0.0     0.00    0.0    0.00\n",
       "3 2018-08-01 04:00:00                2.0  1445.91   70.0   34.86\n",
       "4 2018-08-01 05:00:00                0.0     0.00    0.0    0.00"
      ]
     },
     "execution_count": 246,
     "metadata": {},
     "output_type": "execute_result"
    }
   ],
   "source": [
    "# generate hourly data (sum data by hour)\n",
    "df_hrly = df.set_index('timestamp').resample('H').sum().reset_index()\n",
    "df_hrly.rename(columns={'timestamp':'datetime'}, inplace=True)\n",
    "df_hrly.head()"
   ]
  },
  {
   "cell_type": "code",
   "execution_count": 259,
   "metadata": {},
   "outputs": [
    {
     "data": {
      "text/plain": [
       "<AxesSubplot:title={'center':'Hourly Transaction Amount'}, xlabel='datetime', ylabel='amount'>"
      ]
     },
     "execution_count": 259,
     "metadata": {},
     "output_type": "execute_result"
    },
    {
     "data": {
      "image/png": "[encoded data removed]",
      "text/plain": [
       "<Figure size 720x360 with 1 Axes>"
      ]
     },
     "metadata": {
      "needs_background": "light"
     },
     "output_type": "display_data"
    }
   ],
   "source": [
    "# plt hourly data\n",
    "plt.figure(figsize=(10,5))\n",
    "plt.xticks(rotation = 90)\n",
    "plt.title('Hourly Sum of Transaction Amount - Full Observation Period')\n",
    "sns.lineplot(x='datetime', y='amount', data=df_hrly, color='Red')"
   ]
  },
  {
   "cell_type": "code",
   "execution_count": 248,
   "metadata": {},
   "outputs": [],
   "source": [
    "# visualise over 1 day\n",
    "# select daily data for 1 day\n",
    "start_time = '2018-09-15 00:00:00'\n",
    "end_time = '2018-09-16 00:00:00'\n",
    "d_df = df_hrly[(df_hrly['datetime'] >= start_time) & (df_hrly['datetime'] <= end_time)]"
   ]
  },
  {
   "cell_type": "code",
   "execution_count": 267,
   "metadata": {},
   "outputs": [
    {
     "data": {
      "text/plain": [
       "<AxesSubplot:title={'center':'Hourly Sum of Transaction Amount - 15/09/2018'}, xlabel='datetime', ylabel='amount'>"
      ]
     },
     "execution_count": 267,
     "metadata": {},
     "output_type": "execute_result"
    },
    {
     "data": {
      "image/png": "[encoded data removed]",
      "text/plain": [
       "<Figure size 720x360 with 1 Axes>"
      ]
     },
     "metadata": {
      "needs_background": "light"
     },
     "output_type": "display_data"
    }
   ],
   "source": [
    "# plot data for 1 day\n",
    "plt.figure(figsize=(10,5))\n",
    "plt.xticks(rotation = 90)\n",
    "plt.title('Hourly Sum of Transaction Amount - 15/09/2018')\n",
    "sns.lineplot(x='datetime', y='amount', data=d_df, color='Red')"
   ]
  },
  {
   "cell_type": "code",
   "execution_count": 250,
   "metadata": {},
   "outputs": [],
   "source": [
    "# calculate amount by location to form basis for heatmap\n",
    "df_h = df.groupby(['long_lat'])['amount'].sum().reset_index()"
   ]
  },
  {
   "cell_type": "code",
   "execution_count": 251,
   "metadata": {},
   "outputs": [],
   "source": [
    "# what data can be drawn from the location information\n",
    "# add new columns for long and lat\n",
    "df_h['long'] = df_h['long_lat'].str[:6]\n",
    "df_h['lat'] = df_h['long_lat'].str[-6:]"
   ]
  },
  {
   "cell_type": "code",
   "execution_count": 252,
   "metadata": {},
   "outputs": [
    {
     "data": {
      "text/html": [
       "<div>\n",
       "<style scoped>\n",
       "    .dataframe tbody tr th:only-of-type {\n",
       "        vertical-align: middle;\n",
       "    }\n",
       "\n",
       "    .dataframe tbody tr th {\n",
       "        vertical-align: top;\n",
       "    }\n",
       "\n",
       "    .dataframe thead th {\n",
       "        text-align: right;\n",
       "    }\n",
       "</style>\n",
       "<table border=\"1\" class=\"dataframe\">\n",
       "  <thead>\n",
       "    <tr style=\"text-align: right;\">\n",
       "      <th></th>\n",
       "      <th>long_lat</th>\n",
       "      <th>amount</th>\n",
       "      <th>long</th>\n",
       "      <th>lat</th>\n",
       "      <th>geometry</th>\n",
       "    </tr>\n",
       "  </thead>\n",
       "  <tbody>\n",
       "    <tr>\n",
       "      <th>0</th>\n",
       "      <td>114.62 -28.80</td>\n",
       "      <td>18810.09</td>\n",
       "      <td>114.62</td>\n",
       "      <td>-28.80</td>\n",
       "      <td>POINT (114.62000 -28.80000)</td>\n",
       "    </tr>\n",
       "    <tr>\n",
       "      <th>1</th>\n",
       "      <td>115.72 -32.28</td>\n",
       "      <td>23233.50</td>\n",
       "      <td>115.72</td>\n",
       "      <td>-32.28</td>\n",
       "      <td>POINT (115.72000 -32.28000)</td>\n",
       "    </tr>\n",
       "    <tr>\n",
       "      <th>2</th>\n",
       "      <td>115.74 -31.72</td>\n",
       "      <td>23070.56</td>\n",
       "      <td>115.74</td>\n",
       "      <td>-31.72</td>\n",
       "      <td>POINT (115.74000 -31.72000)</td>\n",
       "    </tr>\n",
       "    <tr>\n",
       "      <th>3</th>\n",
       "      <td>115.78 -31.90</td>\n",
       "      <td>22141.51</td>\n",
       "      <td>115.78</td>\n",
       "      <td>-31.90</td>\n",
       "      <td>POINT (115.78000 -31.90000)</td>\n",
       "    </tr>\n",
       "    <tr>\n",
       "      <th>4</th>\n",
       "      <td>115.79 -31.79</td>\n",
       "      <td>21856.81</td>\n",
       "      <td>115.79</td>\n",
       "      <td>-31.79</td>\n",
       "      <td>POINT (115.79000 -31.79000)</td>\n",
       "    </tr>\n",
       "  </tbody>\n",
       "</table>\n",
       "</div>"
      ],
      "text/plain": [
       "        long_lat    amount    long     lat                     geometry\n",
       "0  114.62 -28.80  18810.09  114.62  -28.80  POINT (114.62000 -28.80000)\n",
       "1  115.72 -32.28  23233.50  115.72  -32.28  POINT (115.72000 -32.28000)\n",
       "2  115.74 -31.72  23070.56  115.74  -31.72  POINT (115.74000 -31.72000)\n",
       "3  115.78 -31.90  22141.51  115.78  -31.90  POINT (115.78000 -31.90000)\n",
       "4  115.79 -31.79  21856.81  115.79  -31.79  POINT (115.79000 -31.79000)"
      ]
     },
     "execution_count": 252,
     "metadata": {},
     "output_type": "execute_result"
    }
   ],
   "source": [
    "# create geodataframe using geometry from long_lat feature\n",
    "gdf = geopandas.GeoDataFrame(df_h, geometry=geopandas.points_from_xy(df_h['long'],df_h['lat']))\n",
    "gdf.head()"
   ]
  },
  {
   "cell_type": "code",
   "execution_count": 268,
   "metadata": {},
   "outputs": [
    {
     "data": {
      "text/html": [
       "<div style=\"width:100%;\"><div style=\"position:relative;width:100%;height:0;padding-bottom:60%;\"><span style=\"color:#565656\">Make this Notebook Trusted to load map: File -> Trust Notebook</span><iframe src=\"about:blank\" style=\"position:absolute;width:100%;height:100%;left:0;top:0;border:none !important;\" data-html=PCFET0NUWVBFIGh0bWw+CjxoZWFkPiAgICAKICAgIDxtZXRhIGh0dHAtZXF1aXY9ImNvbnRlbnQtdHlwZSIgY29udGVudD0idGV4dC9odG1sOyBjaGFyc2V0PVVURi04IiAvPgogICAgCiAgICAgICAgPHNjcmlwdD4KICAgICAgICAgICAgTF9OT19UT1VDSCA9IGZhbHNlOwogICAgICAgICAgICBMX0RJU0FCTEVfM0QgPSBmYWxzZTsKICAgICAgICA8L3NjcmlwdD4KICAgIAogICAgPHNjcmlwdCBzcmM9Imh0dHBzOi8vY2RuLmpzZGVsaXZyLm5ldC9ucG0vbGVhZmxldEAxLjYuMC9kaXN0L2xlYWZsZXQuanMiPjwvc2NyaXB0PgogICAgPHNjcmlwdCBzcmM9Imh0dHBzOi8vY29kZS5qcXVlcnkuY29tL2pxdWVyeS0xLjEyLjQubWluLmpzIj48L3NjcmlwdD4KICAgIDxzY3JpcHQgc3JjPSJodHRwczovL21heGNkbi5ib290c3RyYXBjZG4uY29tL2Jvb3RzdHJhcC8zLjIuMC9qcy9ib290c3RyYXAubWluLmpzIj48L3NjcmlwdD4KICAgIDxzY3JpcHQgc3JjPSJodHRwczovL2NkbmpzLmNsb3VkZmxhcmUuY29tL2FqYXgvbGlicy9MZWFmbGV0LmF3ZXNvbWUtbWFya2Vycy8yLjAuMi9sZWFmbGV0LmF3ZXNvbWUtbWFya2Vycy5qcyI+PC9zY3JpcHQ+CiAgICA8bGluayByZWw9InN0eWxlc2hlZXQiIGhyZWY9Imh0dHBzOi8vY2RuLmpzZGVsaXZyLm5ldC9ucG0vbGVhZmxldEAxLjYuMC9kaXN0L2xlYWZsZXQuY3NzIi8+CiAgICA8bGluayByZWw9InN0eWxlc2hlZXQiIGhyZWY9Imh0dHBzOi8vbWF4Y2RuLmJvb3RzdHJhcGNkbi5jb20vYm9vdHN0cmFwLzMuMi4wL2Nzcy9ib290c3RyYXAubWluLmNzcyIvPgogICAgPGxpbmsgcmVsPSJzdHlsZXNoZWV0IiBocmVmPSJodHRwczovL21heGNkbi5ib290c3RyYXBjZG4uY29tL2Jvb3RzdHJhcC8zLjIuMC9jc3MvYm9vdHN0cmFwLXRoZW1lLm1pbi5jc3MiLz4KICAgIDxsaW5rIHJlbD0ic3R5bGVzaGVldCIgaHJlZj0iaHR0cHM6Ly9tYXhjZG4uYm9vdHN0cmFwY2RuLmNvbS9mb250LWF3ZXNvbWUvNC42LjMvY3NzL2ZvbnQtYXdlc29tZS5taW4uY3NzIi8+CiAgICA8bGluayByZWw9InN0eWxlc2hlZXQiIGhyZWY9Imh0dHBzOi8vY2RuanMuY2xvdWRmbGFyZS5jb20vYWpheC9saWJzL0xlYWZsZXQuYXdlc29tZS1tYXJrZXJzLzIuMC4yL2xlYWZsZXQuYXdlc29tZS1tYXJrZXJzLmNzcyIvPgogICAgPGxpbmsgcmVsPSJzdHlsZXNoZWV0IiBocmVmPSJodHRwczovL3Jhd2Nkbi5naXRoYWNrLmNvbS9weXRob24tdmlzdWFsaXphdGlvbi9mb2xpdW0vbWFzdGVyL2ZvbGl1bS90ZW1wbGF0ZXMvbGVhZmxldC5hd2Vzb21lLnJvdGF0ZS5jc3MiLz4KICAgIDxzdHlsZT5odG1sLCBib2R5IHt3aWR0aDogMTAwJTtoZWlnaHQ6IDEwMCU7bWFyZ2luOiAwO3BhZGRpbmc6IDA7fTwvc3R5bGU+CiAgICA8c3R5bGU+I21hcCB7cG9zaXRpb246YWJzb2x1dGU7dG9wOjA7Ym90dG9tOjA7cmlnaHQ6MDtsZWZ0OjA7fTwvc3R5bGU+CiAgICAKICAgICAgICAgICAgPG1ldGEgbmFtZT0idmlld3BvcnQiIGNvbnRlbnQ9IndpZHRoPWRldmljZS13aWR0aCwKICAgICAgICAgICAgICAgIGluaXRpYWwtc2NhbGU9MS4wLCBtYXhpbXVtLXNjYWxlPTEuMCwgdXNlci1zY2FsYWJsZT1ubyIgLz4KICAgICAgICAgICAgPHN0eWxlPgogICAgICAgICAgICAgICAgI21hcF8wZDE1N2YzNzIzMjA0N2E0YjRiNzA2NDc4OTkwMjg4ZCB7CiAgICAgICAgICAgICAgICAgICAgcG9zaXRpb246IHJlbGF0aXZlOwogICAgICAgICAgICAgICAgICAgIHdpZHRoOiAxMDAuMCU7CiAgICAgICAgICAgICAgICAgICAgaGVpZ2h0OiAxMDAuMCU7CiAgICAgICAgICAgICAgICAgICAgbGVmdDogMC4wJTsKICAgICAgICAgICAgICAgICAgICB0b3A6IDAuMCU7CiAgICAgICAgICAgICAgICB9CiAgICAgICAgICAgIDwvc3R5bGU+CiAgICAgICAgCiAgICA8c2NyaXB0IHNyYz0iaHR0cHM6Ly9sZWFmbGV0LmdpdGh1Yi5pby9MZWFmbGV0LmhlYXQvZGlzdC9sZWFmbGV0LWhlYXQuanMiPjwvc2NyaXB0Pgo8L2hlYWQ+Cjxib2R5PiAgICAKICAgIAogICAgICAgICAgICA8ZGl2IGNsYXNzPSJmb2xpdW0tbWFwIiBpZD0ibWFwXzBkMTU3ZjM3MjMyMDQ3YTRiNGI3MDY0Nzg5OTAyODhkIiA+PC9kaXY+CiAgICAgICAgCjwvYm9keT4KPHNjcmlwdD4gICAgCiAgICAKICAgICAgICAgICAgdmFyIG1hcF8wZDE1N2YzNzIzMjA0N2E0YjRiNzA2NDc4OTkwMjg4ZCA9IEwubWFwKAogICAgICAgICAgICAgICAgIm1hcF8wZDE1N2YzNzIzMjA0N2E0YjRiNzA2NDc4OTkwMjg4ZCIsCiAgICAgICAgICAgICAgICB7CiAgICAgICAgICAgICAgICAgICAgY2VudGVyOiBbLTI1LjAsIDEzNS4wXSwKICAgICAgICAgICAgICAgICAgICBjcnM6IEwuQ1JTLkVQU0czODU3LAogICAgICAgICAgICAgICAgICAgIHpvb206IDQsCiAgICAgICAgICAgICAgICAgICAgem9vbUNvbnRyb2w6IHRydWUsCiAgICAgICAgICAgICAgICAgICAgcHJlZmVyQ2FudmFzOiBmYWxzZSwKICAgICAgICAgICAgICAgICAgICB0aXRsZXM6ICJjYXJ0b2RicG9zaXRyb24iLAogICAgICAgICAgICAgICAgfQogICAgICAgICAgICApOwoKICAgICAgICAgICAgCgogICAgICAgIAogICAgCiAgICAgICAgICAgIHZhciB0aWxlX2xheWVyXzNlNzg1MzViMjZhZjQ3YTA5YzM5ZTMwZDIxMTE5ZmYzID0gTC50aWxlTGF5ZXIoCiAgICAgICAgICAgICAgICAiaHR0cHM6Ly97c30udGlsZS5vcGVuc3RyZWV0bWFwLm9yZy97en0ve3h9L3t5fS5wbmciLAogICAgICAgICAgICAgICAgeyJhdHRyaWJ1dGlvbiI6ICJEYXRhIGJ5IFx1MDAyNmNvcHk7IFx1MDAzY2EgaHJlZj1cImh0dHA6Ly9vcGVuc3RyZWV0bWFwLm9yZ1wiXHUwMDNlT3BlblN0cmVldE1hcFx1MDAzYy9hXHUwMDNlLCB1bmRlciBcdTAwM2NhIGhyZWY9XCJodHRwOi8vd3d3Lm9wZW5zdHJlZXRtYXAub3JnL2NvcHlyaWdodFwiXHUwMDNlT0RiTFx1MDAzYy9hXHUwMDNlLiIsICJkZXRlY3RSZXRpbmEiOiBmYWxzZSwgIm1heE5hdGl2ZVpvb20iOiAxOCwgIm1heFpvb20iOiAxOCwgIm1pblpvb20iOiAwLCAibm9XcmFwIjogZmFsc2UsICJvcGFjaXR5IjogMSwgInN1YmRvbWFpbnMiOiAiYWJjIiwgInRtcyI6IGZhbHNlfQogICAgICAgICAgICApLmFkZFRvKG1hcF8wZDE1N2YzNzIzMjA0N2E0YjRiNzA2NDc4OTkwMjg4ZCk7CiAgICAgICAgCiAgICAKICAgICAgICAgICAgdmFyIGhlYXRfbWFwXzI0ODI2YmMxOTg2NTQyNTA5M2YxZTJiNTZiY2EyYzA4ID0gTC5oZWF0TGF5ZXIoCiAgICAgICAgICAgICAgICBbWy0yOC44LCAxMTQuNjIsIDE4ODEwLjA5XSwgWy0zMi4yOCwgMTE1LjcyLCAyMzIzMy41MDAwMDAwMDAwMDddLCBbLTMxLjcyLCAxMTUuNzQsIDIzMDcwLjU2MDAwMDAwMDAxXSwgWy0zMS45LCAxMTUuNzgsIDIyMTQxLjUwOTk5OTk5OTk5XSwgWy0zMS43OSwgMTE1Ljc5LCAyMTg1Ni44MDk5OTk5OTk5OThdLCBbLTMxLjk0LCAxMTUuNzksIDMyMDcuODcwMDAwMDAwMDAwM10sIFstMzEuODIsIDExNS44MSwgNjI3OS45Njk5OTk5OTk5OTldLCBbLTMxLjksIDExNS44MywgNDk4Ny42Ml0sIFstMzEuOTIsIDExNS45LCA2NDI0LjUyOTk5OTk5OTk5OF0sIFstMzIuMDcsIDExNS45OCwgMTY5MzIuMjYwMDAwMDAwMDAyXSwgWy0zMS44OCwgMTE2LjAsIDI4MTMuNDM5OTk5OTk5OTk5Nl0sIFstMzEuODcsIDExNi4wMiwgNTk0NS43MV0sIFstMzIuMCwgMTE2LjA2LCA5Mzk2LjI5XSwgWy0zMC43NSwgMTIxLjQ4LCA2MTUyLjAyOTk5OTk5OTk5OF0sIFstMTIuNDUsIDEzMC44NCwgNzg4Ny44OTAwMDAwMDAwMDFdLCBbLTEyLjM3LCAxMzAuOSwgMTIxNjcuOTgwMDAwMDAwMDA3XSwgWy0xMi40OSwgMTMwLjk4LCAzMTczLjk2MDAwMDAwMDAwMDVdLCBbLTM1LjAxLCAxMzguNTIsIDg5MjcuNjEwMDAwMDAwMDA0XSwgWy0zNS4yNywgMTM4LjU2LCAxNjUzLjQzOTk5OTk5OTk5OThdLCBbLTM0Ljk2LCAxMzguNTgsIDI5NzExLjkyMDAwMDAwMDAwNl0sIFstMzQuODksIDEzOC42MSwgMTI0MzguMDUwMDAwMDAwMDA3XSwgWy0zNC45MywgMTM4LjYzLCA1NjM2LjgyOTk5OTk5OTk5OV0sIFstMzQuODYsIDEzOC42NywgNDM5NC45OTk5OTk5OTk5OTldLCBbLTM0Ljg0LCAxMzguNjksIDE3NjM1LjAyMDAwMDAwMDAwOF0sIFstMzcuMDYsIDE0Mi43NywgMTQ3NjMuMTQwMDAwMDAwMDA1XSwgWy0zNy42NiwgMTQzLjgzLCA3MjM0LjMyOTk5OTk5OTk5N10sIFstMzcuNjYsIDE0My44OCwgNTk3NS4xMl0sIFstMzcuOTEsIDE0NC42NiwgMzA2Mi42MzAwMDAwMDAwMDA2XSwgWy0zNy41OCwgMTQ0LjcxLCAyMjc5Mi4yN10sIFstMzcuNzMsIDE0NC43OSwgNjA3Mi44Njk5OTk5OTk5OTldLCBbLTM3LjY5LCAxNDQuODksIDExNDYyLjQ1XSwgWy0zNy44MSwgMTQ0Ljg5LCAxNTA2Mi4xMzk5OTk5OTk5OThdLCBbLTM3Ljc5LCAxNDQuOTMsIDYzMTkuMF0sIFstMzcuNzYsIDE0NC45NSwgMjIzMTIuMTE5OTk5OTk5OTldLCBbLTM3LjY5LCAxNDQuOTYsIDEzNTIyLjcxXSwgWy0zNy43NiwgMTQ0Ljk2LCAxODY4MC4yMTk5OTk5OTk5OTRdLCBbLTM3Ljg0LCAxNDQuOTYsIDY1NTguNjcwMDAwMDAwMDAyXSwgWy0zNy40MiwgMTQ0Ljk3LCAxNzAxMC41OTk5OTk5OTk5OTVdLCBbLTM3Ljg0LCAxNDQuOTgsIDE2NDI0LjBdLCBbLTM3LjksIDE0NC45OSwgNTExNi42Mjk5OTk5OTk5OThdLCBbLTM3LjgzLCAxNDUuMCwgMTU1NjMuMzYwMDAwMDAwMDAyXSwgWy0zNy45MywgMTQ1LjAxLCAyNjQwOC4yMTk5OTk5OTk5OThdLCBbLTM3Ljg4LCAxNDUuMDMsIDM4MDQuNDZdLCBbLTM3LjkxLCAxNDUuMDMsIDM4MDUuNTMwMDAwMDAwMDAxXSwgWy0zNy44NSwgMTQ1LjA0LCAyMjAyNy42OTAwMDAwMDAwMTNdLCBbLTM3LjkyLCAxNDUuMDQsIDIwNTE1LjU2MDAwMDAwMDAwNV0sIFstMzcuOTUsIDE0NS4wNiwgMzI2OC4wNDk5OTk5OTk5OTkzXSwgWy0zNy44MiwgMTQ1LjA5LCAxMDg0NS4yNV0sIFstMzcuNywgMTQ1LjEzLCA2NjgzLjgzOTk5OTk5OTk5OF0sIFstMzcuNzYsIDE0NS4xNSwgNTUzNC41MzAwMDAwMDAwMDJdLCBbLTM3Ljg0LCAxNDUuMTYsIDk0MjEuMTcwMDAwMDAwMDAyXSwgWy0zNy44NCwgMTQ1LjE3LCA3MTk0LjU1OTk5OTk5OTk5N10sIFstMzcuOSwgMTQ1LjE4LCAxMDM4NS41Mzk5OTk5OTk5OTldLCBbLTM3Ljg2LCAxNDUuMjMsIDEyNjMwLjZdLCBbLTM4LjAzLCAxNDUuMzUsIDEzMjU5LjcyMDAwMDAwMDAwMV0sIFstMzcuNzQsIDE0NS40NSwgMjI3NjEuOTU5OTk5OTk5OTk1XSwgWy0xNy4wMywgMTQ1LjczLCAzODc3LjA0MDAwMDAwMDAwMDRdLCBbLTM2LjA3LCAxNDYuOTIsIDI2MjM0LjQ2XSwgWy0zNi4wNCwgMTQ2Ljk0LCAzMTQ3LjM3XSwgWy0zNy45NywgMTQ3LjA4LCA1NzA4LjgzXSwgWy00Mi44OCwgMTQ3LjMxLCAxMDU4Ny40Ml0sIFstMzcuODIsIDE0Ny42MSwgOTgzLjQ3OTk5OTk5OTk5OTldLCBbLTIyLjg0LCAxNDcuNjMsIDg5NTMuNzg5OTk5OTk5OTk3XSwgWy0yMy41MiwgMTQ4LjE2LCA1ODQ5LjY2XSwgWy0zNC45NywgMTQ5LjAzLCAxMzYxNC44Mjk5OTk5OTk5OThdLCBbLTM1LjI1LCAxNDkuMDMsIDE0MjE2LjAwOTk5OTk5OTk5OF0sIFstMjEuMTUsIDE0OS4xOSwgMTQ1MzUuMTFdLCBbLTI5LjQ3LCAxNDkuODMsIDI4MzY3LjE2XSwgWy0yMy40LCAxNTAuNSwgNDgyMi41OV0sIFstMzMuNzYsIDE1MC42MiwgMTE0MzguMzY5OTk5OTk5OTk1XSwgWy0zMy43OSwgMTUwLjY4LCAyNzcyMi45ODAwMDAwMDAwMTRdLCBbLTMzLjY0LCAxNTAuNzksIDE3MjIyLjVdLCBbLTM0LjAxLCAxNTAuODIsIDkwMDAuMTg5OTk5OTk5OTk5XSwgWy0zMy43OCwgMTUwLjksIDE0NjkyLjI0MDAwMDAwMDAwNV0sIFstMzQuMzcsIDE1MC45LCAxNjYxNS40NjAwMDAwMDAwMDZdLCBbLTMzLjc3LCAxNTAuOTIsIDIxMDA2LjUzMDAwMDAwMDAwNl0sIFstMzMuNzcsIDE1MS4wNCwgMjg5ODAuODIwMDAwMDAwMDAzXSwgWy0zMy44LCAxNTEuMDQsIDY4MjYuMzddLCBbLTMzLjkzLCAxNTEuMDgsIDE1MzI0Ljg2XSwgWy0zMy45MSwgMTUxLjA5LCA0OTYxLjEyMDAwMDAwMDAwM10sIFstMzMuOTksIDE1MS4xMSwgNDA4NS4zMDAwMDAwMDAwMDA2XSwgWy0zMy44OSwgMTUxLjEyLCA5MzA0Ljk0XSwgWy0zMy44LCAxNTEuMTgsIDE1Njg3Ljk3MDAwMDAwMDAwM10sIFstMzMuODcsIDE1MS4yMiwgNjgwMi40NDAwMDAwMDAwMDJdLCBbLTMzLjk0LCAxNTEuMjMsIDIxMzc1LjkwMDAwMDAwMDAwNV0sIFstMzMuOTYsIDE1MS4yMywgNjU2NS4yODk5OTk5OTk5OTldLCBbLTMzLjc2LCAxNTEuMjcsIDczODYuNTQ5OTk5OTk5OTk3XSwgWy0zMy44NSwgMTUxLjI3LCAxNDkyMi41MDk5OTk5OTk5OTddLCBbLTMzLjksIDE1MS4yNywgMzA0NDkuNTAwMDAwMDAwMDA3XSwgWy0zMi45OCwgMTUxLjY4LCA3MTQwLjc4MDAwMDAwMDAwMl0sIFstMjcuNDksIDE1Mi45OSwgMTIxMDkuNzcwMDAwMDAwMDAyXSwgWy0yNy42NiwgMTUzLjAyLCA4NTAwLjI4XSwgWy0yNy41MSwgMTUzLjAzLCAxNjI2OC45Njk5OTk5OTk5OTZdLCBbLTI3LjYxLCAxNTMuMDUsIDE4MDk5Ljg4MDAwMDAwMDAwNV0sIFstMjcuNDgsIDE1My4wOSwgMTU0NjMuNTg5OTk5OTk5OTk4XSwgWy0yNy42NiwgMTUzLjEsIDE5Mjg2LjQzOTk5OTk5OTk5NV0sIFstMjcuOTMsIDE1My4zMiwgMTc0MTQuNjRdLCBbLTI3Ljk1LCAxNTMuNDEsIDI2MjExLjU4OTk5OTk5OTk5M10sIFstMjguMDEsIDE1My40MSwgNTI5Ny44ODk5OTk5OTk5OTldLCBbNTczLjAsIDI1NS4wLCA5OTg3LjM1OTk5OTk5OTk5OV1dLAogICAgICAgICAgICAgICAgeyJibHVyIjogMTUsICJtYXgiOiAzMDQ0OS41MDAwMDAwMDAwMDcsICJtYXhab29tIjogMTgsICJtaW5PcGFjaXR5IjogMC41LCAicmFkaXVzIjogMjV9CiAgICAgICAgICAgICkuYWRkVG8obWFwXzBkMTU3ZjM3MjMyMDQ3YTRiNGI3MDY0Nzg5OTAyODhkKTsKICAgICAgICAKPC9zY3JpcHQ+ onload=\"this.contentDocument.open();this.contentDocument.write(atob(this.getAttribute('data-html')));this.contentDocument.close();\" allowfullscreen webkitallowfullscreen mozallowfullscreen></iframe></div></div>"
      ],
      "text/plain": [
       "<folium.folium.Map at 0x15a6c2a2d88>"
      ]
     },
     "execution_count": 268,
     "metadata": {},
     "output_type": "execute_result"
    }
   ],
   "source": [
    "# create heatmap using folium\n",
    "# create map\n",
    "m_1 = folium.Map(location=[-25,135], titles='cartodbpositron', zoom_start=4)\n",
    "m_1\n",
    "\n",
    "# create heatmap, use max value from amount to amount normalise column as heat map weighting scales against 1 \n",
    "# e.g. 0.5 = low density, 1 = high density\n",
    "folium.plugins.HeatMap(data=gdf[['lat','long','amount']], max_val =gdf['amount'].max(), radius=25).add_to(m_1)\n",
    "m_1"
   ]
  }
 ],
 "metadata": {
  "kernelspec": {
   "display_name": "geopanda2",
   "language": "python",
   "name": "geopanda2"
  },
  "language_info": {
   "codemirror_mode": {
    "name": "ipython",
    "version": 3
   },
   "file_extension": ".py",
   "mimetype": "text/x-python",
   "name": "python",
   "nbconvert_exporter": "python",
   "pygments_lexer": "ipython3",
   "version": "3.7.8"
  }
 },
 "nbformat": 4,
 "nbformat_minor": 2
}
